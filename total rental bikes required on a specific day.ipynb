{
 "cells": [
  {
   "cell_type": "markdown",
   "id": "ac8269f5",
   "metadata": {},
   "source": [
    "# rental bikes in the Capital Bikeshare system, as well as the corresponding weather and seasonal information, build three regression models to predict the total rental bikes required on a specific day and choose the one with the best coefficient of determination (r squared score)."
   ]
  },
  {
   "cell_type": "code",
   "execution_count": 148,
   "id": "0dc9706a",
   "metadata": {},
   "outputs": [],
   "source": [
    "import numpy as np \n",
    "import pandas as pd\n",
    "import matplotlib.pyplot as plt\n",
    "import seaborn as sns\n",
    "from sklearn.model_selection import train_test_split\n",
    "%matplotlib inline\n",
    "import os\n",
    "import warnings\n",
    "warnings.filterwarnings('ignore')\n",
    "\n"
   ]
  },
  {
   "cell_type": "code",
   "execution_count": 149,
   "id": "4e29368a",
   "metadata": {},
   "outputs": [],
   "source": [
    "\n",
    "data= pd.read_csv('day.csv')"
   ]
  },
  {
   "cell_type": "code",
   "execution_count": 150,
   "id": "da624d2c",
   "metadata": {},
   "outputs": [
    {
     "data": {
      "text/html": [
       "<div>\n",
       "<style scoped>\n",
       "    .dataframe tbody tr th:only-of-type {\n",
       "        vertical-align: middle;\n",
       "    }\n",
       "\n",
       "    .dataframe tbody tr th {\n",
       "        vertical-align: top;\n",
       "    }\n",
       "\n",
       "    .dataframe thead th {\n",
       "        text-align: right;\n",
       "    }\n",
       "</style>\n",
       "<table border=\"1\" class=\"dataframe\">\n",
       "  <thead>\n",
       "    <tr style=\"text-align: right;\">\n",
       "      <th></th>\n",
       "      <th>instant</th>\n",
       "      <th>dteday</th>\n",
       "      <th>season</th>\n",
       "      <th>yr</th>\n",
       "      <th>mnth</th>\n",
       "      <th>holiday</th>\n",
       "      <th>weekday</th>\n",
       "      <th>workingday</th>\n",
       "      <th>weathersit</th>\n",
       "      <th>temp</th>\n",
       "      <th>atemp</th>\n",
       "      <th>hum</th>\n",
       "      <th>windspeed</th>\n",
       "      <th>casual</th>\n",
       "      <th>registered</th>\n",
       "      <th>cnt</th>\n",
       "    </tr>\n",
       "  </thead>\n",
       "  <tbody>\n",
       "    <tr>\n",
       "      <th>0</th>\n",
       "      <td>1</td>\n",
       "      <td>2011-01-01</td>\n",
       "      <td>1</td>\n",
       "      <td>0</td>\n",
       "      <td>1</td>\n",
       "      <td>0</td>\n",
       "      <td>6</td>\n",
       "      <td>0</td>\n",
       "      <td>2</td>\n",
       "      <td>0.344167</td>\n",
       "      <td>0.363625</td>\n",
       "      <td>0.805833</td>\n",
       "      <td>0.160446</td>\n",
       "      <td>331</td>\n",
       "      <td>654</td>\n",
       "      <td>985</td>\n",
       "    </tr>\n",
       "    <tr>\n",
       "      <th>1</th>\n",
       "      <td>2</td>\n",
       "      <td>2011-01-02</td>\n",
       "      <td>1</td>\n",
       "      <td>0</td>\n",
       "      <td>1</td>\n",
       "      <td>0</td>\n",
       "      <td>0</td>\n",
       "      <td>0</td>\n",
       "      <td>2</td>\n",
       "      <td>0.363478</td>\n",
       "      <td>0.353739</td>\n",
       "      <td>0.696087</td>\n",
       "      <td>0.248539</td>\n",
       "      <td>131</td>\n",
       "      <td>670</td>\n",
       "      <td>801</td>\n",
       "    </tr>\n",
       "    <tr>\n",
       "      <th>2</th>\n",
       "      <td>3</td>\n",
       "      <td>2011-01-03</td>\n",
       "      <td>1</td>\n",
       "      <td>0</td>\n",
       "      <td>1</td>\n",
       "      <td>0</td>\n",
       "      <td>1</td>\n",
       "      <td>1</td>\n",
       "      <td>1</td>\n",
       "      <td>0.196364</td>\n",
       "      <td>0.189405</td>\n",
       "      <td>0.437273</td>\n",
       "      <td>0.248309</td>\n",
       "      <td>120</td>\n",
       "      <td>1229</td>\n",
       "      <td>1349</td>\n",
       "    </tr>\n",
       "    <tr>\n",
       "      <th>3</th>\n",
       "      <td>4</td>\n",
       "      <td>2011-01-04</td>\n",
       "      <td>1</td>\n",
       "      <td>0</td>\n",
       "      <td>1</td>\n",
       "      <td>0</td>\n",
       "      <td>2</td>\n",
       "      <td>1</td>\n",
       "      <td>1</td>\n",
       "      <td>0.200000</td>\n",
       "      <td>0.212122</td>\n",
       "      <td>0.590435</td>\n",
       "      <td>0.160296</td>\n",
       "      <td>108</td>\n",
       "      <td>1454</td>\n",
       "      <td>1562</td>\n",
       "    </tr>\n",
       "    <tr>\n",
       "      <th>4</th>\n",
       "      <td>5</td>\n",
       "      <td>2011-01-05</td>\n",
       "      <td>1</td>\n",
       "      <td>0</td>\n",
       "      <td>1</td>\n",
       "      <td>0</td>\n",
       "      <td>3</td>\n",
       "      <td>1</td>\n",
       "      <td>1</td>\n",
       "      <td>0.226957</td>\n",
       "      <td>0.229270</td>\n",
       "      <td>0.436957</td>\n",
       "      <td>0.186900</td>\n",
       "      <td>82</td>\n",
       "      <td>1518</td>\n",
       "      <td>1600</td>\n",
       "    </tr>\n",
       "  </tbody>\n",
       "</table>\n",
       "</div>"
      ],
      "text/plain": [
       "   instant      dteday  season  yr  mnth  holiday  weekday  workingday  \\\n",
       "0        1  2011-01-01       1   0     1        0        6           0   \n",
       "1        2  2011-01-02       1   0     1        0        0           0   \n",
       "2        3  2011-01-03       1   0     1        0        1           1   \n",
       "3        4  2011-01-04       1   0     1        0        2           1   \n",
       "4        5  2011-01-05       1   0     1        0        3           1   \n",
       "\n",
       "   weathersit      temp     atemp       hum  windspeed  casual  registered  \\\n",
       "0           2  0.344167  0.363625  0.805833   0.160446     331         654   \n",
       "1           2  0.363478  0.353739  0.696087   0.248539     131         670   \n",
       "2           1  0.196364  0.189405  0.437273   0.248309     120        1229   \n",
       "3           1  0.200000  0.212122  0.590435   0.160296     108        1454   \n",
       "4           1  0.226957  0.229270  0.436957   0.186900      82        1518   \n",
       "\n",
       "    cnt  \n",
       "0   985  \n",
       "1   801  \n",
       "2  1349  \n",
       "3  1562  \n",
       "4  1600  "
      ]
     },
     "execution_count": 150,
     "metadata": {},
     "output_type": "execute_result"
    }
   ],
   "source": [
    "data.head(5)"
   ]
  },
  {
   "cell_type": "code",
   "execution_count": 151,
   "id": "9006e1dd",
   "metadata": {},
   "outputs": [
    {
     "data": {
      "text/plain": [
       "(731, 16)"
      ]
     },
     "execution_count": 151,
     "metadata": {},
     "output_type": "execute_result"
    }
   ],
   "source": [
    "data.shape"
   ]
  },
  {
   "cell_type": "code",
   "execution_count": 152,
   "id": "bca5ffe8",
   "metadata": {},
   "outputs": [],
   "source": [
    "data.rename(columns={'dteday':'datetime'},inplace=True)"
   ]
  },
  {
   "cell_type": "markdown",
   "id": "a662fef4",
   "metadata": {},
   "source": [
    "#Typecasting the datetime and numerical attributes"
   ]
  },
  {
   "cell_type": "code",
   "execution_count": 153,
   "id": "5ea94a12",
   "metadata": {},
   "outputs": [],
   "source": [
    "data['datetime']=pd.to_datetime(data.datetime)\n",
    "data['season']=data.season.astype('category')\n",
    "data['yr']=data.yr.astype('category')\n",
    "data['mnth']=data.mnth.astype('category')\n",
    "data['holiday']=data.holiday.astype('category')\n",
    "data['weekday']=data.weekday.astype('category')\n",
    "data['workingday']=data.workingday.astype('category')\n",
    "data['weathersit']=data.weathersit.astype('category')"
   ]
  },
  {
   "cell_type": "code",
   "execution_count": 154,
   "id": "4c3fe2ea",
   "metadata": {},
   "outputs": [
    {
     "data": {
      "text/html": [
       "<div>\n",
       "<style scoped>\n",
       "    .dataframe tbody tr th:only-of-type {\n",
       "        vertical-align: middle;\n",
       "    }\n",
       "\n",
       "    .dataframe tbody tr th {\n",
       "        vertical-align: top;\n",
       "    }\n",
       "\n",
       "    .dataframe thead th {\n",
       "        text-align: right;\n",
       "    }\n",
       "</style>\n",
       "<table border=\"1\" class=\"dataframe\">\n",
       "  <thead>\n",
       "    <tr style=\"text-align: right;\">\n",
       "      <th></th>\n",
       "      <th>instant</th>\n",
       "      <th>temp</th>\n",
       "      <th>atemp</th>\n",
       "      <th>hum</th>\n",
       "      <th>windspeed</th>\n",
       "      <th>casual</th>\n",
       "      <th>registered</th>\n",
       "      <th>cnt</th>\n",
       "    </tr>\n",
       "  </thead>\n",
       "  <tbody>\n",
       "    <tr>\n",
       "      <th>count</th>\n",
       "      <td>731.000000</td>\n",
       "      <td>731.000000</td>\n",
       "      <td>731.000000</td>\n",
       "      <td>731.000000</td>\n",
       "      <td>731.000000</td>\n",
       "      <td>731.000000</td>\n",
       "      <td>731.000000</td>\n",
       "      <td>731.000000</td>\n",
       "    </tr>\n",
       "    <tr>\n",
       "      <th>mean</th>\n",
       "      <td>366.000000</td>\n",
       "      <td>0.495385</td>\n",
       "      <td>0.474354</td>\n",
       "      <td>0.627894</td>\n",
       "      <td>0.190486</td>\n",
       "      <td>848.176471</td>\n",
       "      <td>3656.172367</td>\n",
       "      <td>4504.348837</td>\n",
       "    </tr>\n",
       "    <tr>\n",
       "      <th>std</th>\n",
       "      <td>211.165812</td>\n",
       "      <td>0.183051</td>\n",
       "      <td>0.162961</td>\n",
       "      <td>0.142429</td>\n",
       "      <td>0.077498</td>\n",
       "      <td>686.622488</td>\n",
       "      <td>1560.256377</td>\n",
       "      <td>1937.211452</td>\n",
       "    </tr>\n",
       "    <tr>\n",
       "      <th>min</th>\n",
       "      <td>1.000000</td>\n",
       "      <td>0.059130</td>\n",
       "      <td>0.079070</td>\n",
       "      <td>0.000000</td>\n",
       "      <td>0.022392</td>\n",
       "      <td>2.000000</td>\n",
       "      <td>20.000000</td>\n",
       "      <td>22.000000</td>\n",
       "    </tr>\n",
       "    <tr>\n",
       "      <th>25%</th>\n",
       "      <td>183.500000</td>\n",
       "      <td>0.337083</td>\n",
       "      <td>0.337842</td>\n",
       "      <td>0.520000</td>\n",
       "      <td>0.134950</td>\n",
       "      <td>315.500000</td>\n",
       "      <td>2497.000000</td>\n",
       "      <td>3152.000000</td>\n",
       "    </tr>\n",
       "    <tr>\n",
       "      <th>50%</th>\n",
       "      <td>366.000000</td>\n",
       "      <td>0.498333</td>\n",
       "      <td>0.486733</td>\n",
       "      <td>0.626667</td>\n",
       "      <td>0.180975</td>\n",
       "      <td>713.000000</td>\n",
       "      <td>3662.000000</td>\n",
       "      <td>4548.000000</td>\n",
       "    </tr>\n",
       "    <tr>\n",
       "      <th>75%</th>\n",
       "      <td>548.500000</td>\n",
       "      <td>0.655417</td>\n",
       "      <td>0.608602</td>\n",
       "      <td>0.730209</td>\n",
       "      <td>0.233214</td>\n",
       "      <td>1096.000000</td>\n",
       "      <td>4776.500000</td>\n",
       "      <td>5956.000000</td>\n",
       "    </tr>\n",
       "    <tr>\n",
       "      <th>max</th>\n",
       "      <td>731.000000</td>\n",
       "      <td>0.861667</td>\n",
       "      <td>0.840896</td>\n",
       "      <td>0.972500</td>\n",
       "      <td>0.507463</td>\n",
       "      <td>3410.000000</td>\n",
       "      <td>6946.000000</td>\n",
       "      <td>8714.000000</td>\n",
       "    </tr>\n",
       "  </tbody>\n",
       "</table>\n",
       "</div>"
      ],
      "text/plain": [
       "          instant        temp       atemp         hum   windspeed  \\\n",
       "count  731.000000  731.000000  731.000000  731.000000  731.000000   \n",
       "mean   366.000000    0.495385    0.474354    0.627894    0.190486   \n",
       "std    211.165812    0.183051    0.162961    0.142429    0.077498   \n",
       "min      1.000000    0.059130    0.079070    0.000000    0.022392   \n",
       "25%    183.500000    0.337083    0.337842    0.520000    0.134950   \n",
       "50%    366.000000    0.498333    0.486733    0.626667    0.180975   \n",
       "75%    548.500000    0.655417    0.608602    0.730209    0.233214   \n",
       "max    731.000000    0.861667    0.840896    0.972500    0.507463   \n",
       "\n",
       "            casual   registered          cnt  \n",
       "count   731.000000   731.000000   731.000000  \n",
       "mean    848.176471  3656.172367  4504.348837  \n",
       "std     686.622488  1560.256377  1937.211452  \n",
       "min       2.000000    20.000000    22.000000  \n",
       "25%     315.500000  2497.000000  3152.000000  \n",
       "50%     713.000000  3662.000000  4548.000000  \n",
       "75%    1096.000000  4776.500000  5956.000000  \n",
       "max    3410.000000  6946.000000  8714.000000  "
      ]
     },
     "execution_count": 154,
     "metadata": {},
     "output_type": "execute_result"
    }
   ],
   "source": [
    "data.describe() "
   ]
  },
  {
   "cell_type": "code",
   "execution_count": 155,
   "id": "bc1084ad",
   "metadata": {},
   "outputs": [
    {
     "data": {
      "text/plain": [
       "instant       0\n",
       "datetime      0\n",
       "season        0\n",
       "yr            0\n",
       "mnth          0\n",
       "holiday       0\n",
       "weekday       0\n",
       "workingday    0\n",
       "weathersit    0\n",
       "temp          0\n",
       "atemp         0\n",
       "hum           0\n",
       "windspeed     0\n",
       "casual        0\n",
       "registered    0\n",
       "cnt           0\n",
       "dtype: int64"
      ]
     },
     "execution_count": 155,
     "metadata": {},
     "output_type": "execute_result"
    }
   ],
   "source": [
    "data.isnull().sum() # finding the count of missing values from different columns"
   ]
  },
  {
   "cell_type": "code",
   "execution_count": 156,
   "id": "a49eaf8e",
   "metadata": {},
   "outputs": [
    {
     "data": {
      "image/png": "[encoded data removed]",
      "text/plain": [
       "<Figure size 1080x576 with 1 Axes>"
      ]
     },
     "metadata": {
      "needs_background": "light"
     },
     "output_type": "display_data"
    },
    {
     "data": {
      "image/png": "[encoded data removed]",
      "text/plain": [
       "<Figure size 1080x576 with 1 Axes>"
      ]
     },
     "metadata": {},
     "output_type": "display_data"
    }
   ],
   "source": [
    "fig,ax=plt.subplots(figsize=(15,8))\n",
    "sns.set_style('white')\n",
    "#Bar plot for seasonwise monthly distribution of counts\n",
    "sns.barplot(x='mnth',y='cnt',data=data[['mnth','cnt','season']],hue='season',ax=ax)\n",
    "ax.set_title('Seasonwise monthly distribution of counts')\n",
    "plt.show()\n",
    "#Bar plot for weekday wise monthly distribution of counts\n",
    "fig,ax1=plt.subplots(figsize=(15,8))\n",
    "sns.barplot(x='mnth',y='cnt',data=data[['mnth','cnt','weekday']],hue='weekday',ax=ax1)\n",
    "ax1.set_title('Weekday wise monthly distribution of counts')\n",
    "plt.show()"
   ]
  },
  {
   "cell_type": "code",
   "execution_count": 157,
   "id": "2f020b29",
   "metadata": {},
   "outputs": [
    {
     "data": {
      "image/png": "[encoded data removed]",
      "text/plain": [
       "<Figure size 1080x576 with 1 Axes>"
      ]
     },
     "metadata": {},
     "output_type": "display_data"
    }
   ],
   "source": [
    "fig,ax=plt.subplots(figsize=(15,8))\n",
    "#Violin plot for yearly distribution of counts\n",
    "sns.violinplot(x='yr',y='cnt',data=data[['yr','cnt']])\n",
    "ax.set_title('Yearly distribution of counts')\n",
    "plt.show()\n"
   ]
  },
  {
   "cell_type": "code",
   "execution_count": 158,
   "id": "19675820",
   "metadata": {},
   "outputs": [
    {
     "data": {
      "image/png": "[encoded data removed]",
      "text/plain": [
       "<Figure size 1080x576 with 1 Axes>"
      ]
     },
     "metadata": {},
     "output_type": "display_data"
    }
   ],
   "source": [
    "fig,ax=plt.subplots(figsize=(15,8))\n",
    "#Barplot for Holiday distribution of counts\n",
    "sns.barplot(data=data,x='holiday',y='cnt',hue='season')\n",
    "ax.set_title('Holiday wise distribution of counts')\n",
    "plt.show()"
   ]
  },
  {
   "cell_type": "code",
   "execution_count": 159,
   "id": "ea32dba2",
   "metadata": {},
   "outputs": [
    {
     "data": {
      "image/png": "[encoded data removed]",
      "text/plain": [
       "<Figure size 1080x576 with 1 Axes>"
      ]
     },
     "metadata": {},
     "output_type": "display_data"
    }
   ],
   "source": [
    "fig,ax=plt.subplots(figsize=(15,8))\n",
    "#Bar plot for workingday distribution of counts\n",
    "sns.barplot(data=data,x='workingday',y='cnt',hue='season')\n",
    "ax.set_title('Workingday wise distribution of counts')\n",
    "plt.show()"
   ]
  },
  {
   "cell_type": "code",
   "execution_count": 160,
   "id": "e0572ba9",
   "metadata": {
    "scrolled": true
   },
   "outputs": [
    {
     "data": {
      "image/png": "[encoded data removed]",
      "text/plain": [
       "<Figure size 1080x576 with 1 Axes>"
      ]
     },
     "metadata": {},
     "output_type": "display_data"
    }
   ],
   "source": [
    "fig,ax1=plt.subplots(figsize=(15,8))\n",
    "#Bar plot for weather_condition distribution of counts\n",
    "sns.barplot(x='weathersit',y='cnt',data=data[['mnth','cnt','weathersit']],ax=ax1)\n",
    "ax1.set_title('Weather_condition wise monthly distribution of counts')\n",
    "plt.show()"
   ]
  },
  {
   "cell_type": "code",
   "execution_count": 161,
   "id": "17fad4d5",
   "metadata": {},
   "outputs": [
    {
     "data": {
      "image/png": "[encoded data removed]",
      "text/plain": [
       "<Figure size 1080x576 with 1 Axes>"
      ]
     },
     "metadata": {},
     "output_type": "display_data"
    }
   ],
   "source": [
    "fig,ax=plt.subplots(figsize=(15,8))\n",
    "#Boxplot for total_count outliers\n",
    "sns.boxplot(data=data[['cnt']])\n",
    "ax.set_title('total_count outliers')\n",
    "plt.show()"
   ]
  },
  {
   "cell_type": "code",
   "execution_count": 162,
   "id": "b4c8fcf6",
   "metadata": {},
   "outputs": [
    {
     "data": {
      "image/png": "[encoded data removed]",
      "text/plain": [
       "<Figure size 1080x576 with 1 Axes>"
      ]
     },
     "metadata": {},
     "output_type": "display_data"
    }
   ],
   "source": [
    "fig,ax=plt.subplots(figsize=(15,8))\n",
    "#Box plot for Temp_windspeed_humidity_outliers\n",
    "sns.boxplot(data=data[['temp','windspeed','hum']])\n",
    "ax.set_title('Temp_windspeed_humidity_outiers')\n",
    "plt.show()"
   ]
  },
  {
   "cell_type": "markdown",
   "id": "7127288a",
   "metadata": {},
   "source": [
    "# Replace and impute the outliers"
   ]
  },
  {
   "cell_type": "code",
   "execution_count": 163,
   "id": "480bb690",
   "metadata": {},
   "outputs": [],
   "source": [
    "\n",
    "from fancyimpute import KNN\n",
    "\n",
    "#create dataframe for outliers\n",
    "wind_hum=pd.DataFrame(data,columns=['windspeed','hum'])\n",
    " #Cnames for outliers                     \n",
    "cnames=['windspeed','hum']       \n",
    "                      \n",
    "for i in cnames:\n",
    "    q75,q25=np.percentile(wind_hum.loc[:,i],[75,25]) # Divide data into 75%quantile and 25%quantile.\n",
    "    iqr=q75-q25 #Inter quantile range\n",
    "    min=q25-(iqr*1.5) #inner fence\n",
    "    max=q75+(iqr*1.5) #outer fence\n",
    "    wind_hum.loc[wind_hum.loc[:,i]<min,:i]=np.nan  #Replace with NA\n",
    "    wind_hum.loc[wind_hum.loc[:,i]>max,:i]=np.nan  #Replace with NA\n",
    "#Imputating the outliers by mean Imputation\n",
    "wind_hum['windspeed']=wind_hum['windspeed'].fillna(wind_hum['windspeed'].mean())\n",
    "wind_hum['hum']=wind_hum['hum'].fillna(wind_hum['hum'].mean())"
   ]
  },
  {
   "cell_type": "markdown",
   "id": "17e8a8a1",
   "metadata": {},
   "source": [
    "# Replace the original dataset to imputated data"
   ]
  },
  {
   "cell_type": "code",
   "execution_count": 164,
   "id": "73cbe557",
   "metadata": {},
   "outputs": [
    {
     "data": {
      "text/html": [
       "<div>\n",
       "<style scoped>\n",
       "    .dataframe tbody tr th:only-of-type {\n",
       "        vertical-align: middle;\n",
       "    }\n",
       "\n",
       "    .dataframe tbody tr th {\n",
       "        vertical-align: top;\n",
       "    }\n",
       "\n",
       "    .dataframe thead th {\n",
       "        text-align: right;\n",
       "    }\n",
       "</style>\n",
       "<table border=\"1\" class=\"dataframe\">\n",
       "  <thead>\n",
       "    <tr style=\"text-align: right;\">\n",
       "      <th></th>\n",
       "      <th>instant</th>\n",
       "      <th>datetime</th>\n",
       "      <th>season</th>\n",
       "      <th>yr</th>\n",
       "      <th>mnth</th>\n",
       "      <th>holiday</th>\n",
       "      <th>weekday</th>\n",
       "      <th>workingday</th>\n",
       "      <th>weathersit</th>\n",
       "      <th>temp</th>\n",
       "      <th>atemp</th>\n",
       "      <th>hum</th>\n",
       "      <th>windspeed</th>\n",
       "      <th>casual</th>\n",
       "      <th>registered</th>\n",
       "      <th>cnt</th>\n",
       "    </tr>\n",
       "  </thead>\n",
       "  <tbody>\n",
       "    <tr>\n",
       "      <th>0</th>\n",
       "      <td>1</td>\n",
       "      <td>2011-01-01</td>\n",
       "      <td>1</td>\n",
       "      <td>0</td>\n",
       "      <td>1</td>\n",
       "      <td>0</td>\n",
       "      <td>6</td>\n",
       "      <td>0</td>\n",
       "      <td>2</td>\n",
       "      <td>0.344167</td>\n",
       "      <td>0.363625</td>\n",
       "      <td>0.805833</td>\n",
       "      <td>0.160446</td>\n",
       "      <td>331</td>\n",
       "      <td>654</td>\n",
       "      <td>985</td>\n",
       "    </tr>\n",
       "    <tr>\n",
       "      <th>1</th>\n",
       "      <td>2</td>\n",
       "      <td>2011-01-02</td>\n",
       "      <td>1</td>\n",
       "      <td>0</td>\n",
       "      <td>1</td>\n",
       "      <td>0</td>\n",
       "      <td>0</td>\n",
       "      <td>0</td>\n",
       "      <td>2</td>\n",
       "      <td>0.363478</td>\n",
       "      <td>0.353739</td>\n",
       "      <td>0.696087</td>\n",
       "      <td>0.248539</td>\n",
       "      <td>131</td>\n",
       "      <td>670</td>\n",
       "      <td>801</td>\n",
       "    </tr>\n",
       "    <tr>\n",
       "      <th>2</th>\n",
       "      <td>3</td>\n",
       "      <td>2011-01-03</td>\n",
       "      <td>1</td>\n",
       "      <td>0</td>\n",
       "      <td>1</td>\n",
       "      <td>0</td>\n",
       "      <td>1</td>\n",
       "      <td>1</td>\n",
       "      <td>1</td>\n",
       "      <td>0.196364</td>\n",
       "      <td>0.189405</td>\n",
       "      <td>0.437273</td>\n",
       "      <td>0.248309</td>\n",
       "      <td>120</td>\n",
       "      <td>1229</td>\n",
       "      <td>1349</td>\n",
       "    </tr>\n",
       "    <tr>\n",
       "      <th>3</th>\n",
       "      <td>4</td>\n",
       "      <td>2011-01-04</td>\n",
       "      <td>1</td>\n",
       "      <td>0</td>\n",
       "      <td>1</td>\n",
       "      <td>0</td>\n",
       "      <td>2</td>\n",
       "      <td>1</td>\n",
       "      <td>1</td>\n",
       "      <td>0.200000</td>\n",
       "      <td>0.212122</td>\n",
       "      <td>0.590435</td>\n",
       "      <td>0.160296</td>\n",
       "      <td>108</td>\n",
       "      <td>1454</td>\n",
       "      <td>1562</td>\n",
       "    </tr>\n",
       "    <tr>\n",
       "      <th>4</th>\n",
       "      <td>5</td>\n",
       "      <td>2011-01-05</td>\n",
       "      <td>1</td>\n",
       "      <td>0</td>\n",
       "      <td>1</td>\n",
       "      <td>0</td>\n",
       "      <td>3</td>\n",
       "      <td>1</td>\n",
       "      <td>1</td>\n",
       "      <td>0.226957</td>\n",
       "      <td>0.229270</td>\n",
       "      <td>0.436957</td>\n",
       "      <td>0.186900</td>\n",
       "      <td>82</td>\n",
       "      <td>1518</td>\n",
       "      <td>1600</td>\n",
       "    </tr>\n",
       "  </tbody>\n",
       "</table>\n",
       "</div>"
      ],
      "text/plain": [
       "   instant   datetime season yr mnth holiday weekday workingday weathersit  \\\n",
       "0        1 2011-01-01      1  0    1       0       6          0          2   \n",
       "1        2 2011-01-02      1  0    1       0       0          0          2   \n",
       "2        3 2011-01-03      1  0    1       0       1          1          1   \n",
       "3        4 2011-01-04      1  0    1       0       2          1          1   \n",
       "4        5 2011-01-05      1  0    1       0       3          1          1   \n",
       "\n",
       "       temp     atemp       hum  windspeed  casual  registered   cnt  \n",
       "0  0.344167  0.363625  0.805833   0.160446     331         654   985  \n",
       "1  0.363478  0.353739  0.696087   0.248539     131         670   801  \n",
       "2  0.196364  0.189405  0.437273   0.248309     120        1229  1349  \n",
       "3  0.200000  0.212122  0.590435   0.160296     108        1454  1562  \n",
       "4  0.226957  0.229270  0.436957   0.186900      82        1518  1600  "
      ]
     },
     "execution_count": 164,
     "metadata": {},
     "output_type": "execute_result"
    }
   ],
   "source": [
    "data['windspeed']=data['windspeed'].replace(wind_hum['windspeed'])\n",
    "#Replacing the imputated humidity\n",
    "data['hum']=data['hum'].replace(wind_hum['hum'])\n",
    "data.head(5)"
   ]
  },
  {
   "cell_type": "markdown",
   "id": "03a737de",
   "metadata": {},
   "source": [
    "# Normal Probability Plot"
   ]
  },
  {
   "cell_type": "code",
   "execution_count": 165,
   "id": "d51f201f",
   "metadata": {},
   "outputs": [
    {
     "data": {
      "image/png": "[encoded data removed]",
      "text/plain": [
       "<Figure size 1080x576 with 1 Axes>"
      ]
     },
     "metadata": {},
     "output_type": "display_data"
    }
   ],
   "source": [
    "import scipy\n",
    "from scipy import stats\n",
    "#Normal plot\n",
    "fig=plt.figure(figsize=(15,8))\n",
    "stats.probplot(data.cnt.tolist(),dist='norm',plot=plt)\n",
    "plt.show()"
   ]
  },
  {
   "cell_type": "markdown",
   "id": "b963e42f",
   "metadata": {},
   "source": [
    "# The above probability plot, the some target variable data points are deviates from normality."
   ]
  },
  {
   "cell_type": "markdown",
   "id": "855d217d",
   "metadata": {},
   "source": [
    "# Correlation matrix"
   ]
  },
  {
   "cell_type": "code",
   "execution_count": 166,
   "id": "826b4b89",
   "metadata": {},
   "outputs": [
    {
     "data": {
      "image/png": "[encoded data removed]",
      "text/plain": [
       "<Figure size 1080x576 with 2 Axes>"
      ]
     },
     "metadata": {},
     "output_type": "display_data"
    }
   ],
   "source": [
    "#Create the correlation matrix\n",
    "correMtr=data[[\"temp\",\"atemp\",\"hum\",\"windspeed\",\"casual\",\"registered\",\"cnt\"]].corr()\n",
    "mask=np.array(correMtr)\n",
    "mask[np.tril_indices_from(mask)]=False\n",
    "#Heat map for correlation matrix of attributes\n",
    "fig,ax=plt.subplots(figsize=(15,8))\n",
    "sns.heatmap(correMtr,mask=mask,vmax=0.8,square=True,annot=True,ax=ax)\n",
    "ax.set_title('Correlation matrix of attributes')\n",
    "plt.show()"
   ]
  },
  {
   "cell_type": "markdown",
   "id": "07a7659b",
   "metadata": {},
   "source": [
    "# From correlation plot, we can observed that some features are positively correlated or some are negatively correlated to each other. The temp and atemp are highly positively correlated to each other, it means that both are carrying same information.The total_count,casual and registered are highly positively correlated to each other. So, we are going to ignore atemp,casual and registered variable for further analysis."
   ]
  },
  {
   "cell_type": "markdown",
   "id": "2c24fd0f",
   "metadata": {},
   "source": [
    "# Modelling the dataset"
   ]
  },
  {
   "cell_type": "code",
   "execution_count": 167,
   "id": "f9738c85",
   "metadata": {},
   "outputs": [],
   "source": [
    "from sklearn import preprocessing,metrics,linear_model\n",
    "from sklearn.model_selection import cross_val_score,cross_val_predict,train_test_split"
   ]
  },
  {
   "cell_type": "markdown",
   "id": "67d2d9e7",
   "metadata": {},
   "source": [
    "# Split the dataset into train and test in the ratio of 70:30"
   ]
  },
  {
   "cell_type": "code",
   "execution_count": 168,
   "id": "d2a957bb",
   "metadata": {},
   "outputs": [
    {
     "name": "stdout",
     "output_type": "stream",
     "text": [
      "(511, 14) (220, 14) (511, 2) (220, 2)\n",
      "   index   cnt\n",
      "0    223  4905\n",
      "1    684  5445\n",
      "2    685  5698\n",
      "3    163  5020\n",
      "4    394  3624\n",
      "   index   cnt\n",
      "0    703  6606\n",
      "1     33  1550\n",
      "2    300  3747\n",
      "3    456  6041\n",
      "4    633  7538\n"
     ]
    }
   ],
   "source": [
    "from sklearn.model_selection import train_test_split\n",
    "X_train,X_test,y_train,y_test=train_test_split(data.iloc[:,0:-3],data.iloc[:,-1],test_size=0.3, random_state=42)\n",
    "\n",
    "#Reset train index values\n",
    "X_train.reset_index(inplace=True)\n",
    "y_train=y_train.reset_index()\n",
    "\n",
    "# Reset train index values\n",
    "X_test.reset_index(inplace=True)\n",
    "y_test=y_test.reset_index()\n",
    "\n",
    "print(X_train.shape,X_test.shape,y_train.shape,y_test.shape)\n",
    "print(y_train.head())\n",
    "print(y_test.head())"
   ]
  },
  {
   "cell_type": "markdown",
   "id": "36412eba",
   "metadata": {},
   "source": [
    "# Split the features into categorical and numerical features"
   ]
  },
  {
   "cell_type": "code",
   "execution_count": 169,
   "id": "8ed6cbcf",
   "metadata": {},
   "outputs": [],
   "source": [
    "#Create a new dataset for train attributes\n",
    "train_attributes=X_train[['season','mnth','yr','weekday','holiday','workingday','weathersit','hum','temp','windspeed']]\n",
    "#Create a new dataset for test attributes\n",
    "test_attributes=X_test[['season','mnth','yr','weekday','holiday','workingday','hum','temp','windspeed','weathersit']]\n",
    "#categorical attributes\n",
    "cat_attributes=['season','holiday','workingday','weathersit','yr']\n",
    "#numerical attributes\n",
    "num_attributes=['temp','windspeed','hum','month','weekday']"
   ]
  },
  {
   "cell_type": "markdown",
   "id": "16bb2f84",
   "metadata": {},
   "source": [
    "# Decoding the training attributes"
   ]
  },
  {
   "cell_type": "code",
   "execution_count": 170,
   "id": "ef3bbb70",
   "metadata": {},
   "outputs": [
    {
     "name": "stdout",
     "output_type": "stream",
     "text": [
      "Shape of transfomed dataframe:: (511, 18)\n"
     ]
    },
    {
     "data": {
      "text/html": [
       "<div>\n",
       "<style scoped>\n",
       "    .dataframe tbody tr th:only-of-type {\n",
       "        vertical-align: middle;\n",
       "    }\n",
       "\n",
       "    .dataframe tbody tr th {\n",
       "        vertical-align: top;\n",
       "    }\n",
       "\n",
       "    .dataframe thead th {\n",
       "        text-align: right;\n",
       "    }\n",
       "</style>\n",
       "<table border=\"1\" class=\"dataframe\">\n",
       "  <thead>\n",
       "    <tr style=\"text-align: right;\">\n",
       "      <th></th>\n",
       "      <th>mnth</th>\n",
       "      <th>weekday</th>\n",
       "      <th>hum</th>\n",
       "      <th>temp</th>\n",
       "      <th>windspeed</th>\n",
       "      <th>season_1</th>\n",
       "      <th>season_2</th>\n",
       "      <th>season_3</th>\n",
       "      <th>season_4</th>\n",
       "      <th>holiday_0</th>\n",
       "      <th>holiday_1</th>\n",
       "      <th>workingday_0</th>\n",
       "      <th>workingday_1</th>\n",
       "      <th>weathersit_1</th>\n",
       "      <th>weathersit_2</th>\n",
       "      <th>weathersit_3</th>\n",
       "      <th>yr_0</th>\n",
       "      <th>yr_1</th>\n",
       "    </tr>\n",
       "  </thead>\n",
       "  <tbody>\n",
       "    <tr>\n",
       "      <th>0</th>\n",
       "      <td>8</td>\n",
       "      <td>5</td>\n",
       "      <td>0.415000</td>\n",
       "      <td>0.708333</td>\n",
       "      <td>0.125621</td>\n",
       "      <td>0</td>\n",
       "      <td>0</td>\n",
       "      <td>1</td>\n",
       "      <td>0</td>\n",
       "      <td>1</td>\n",
       "      <td>0</td>\n",
       "      <td>0</td>\n",
       "      <td>1</td>\n",
       "      <td>1</td>\n",
       "      <td>0</td>\n",
       "      <td>0</td>\n",
       "      <td>1</td>\n",
       "      <td>0</td>\n",
       "    </tr>\n",
       "    <tr>\n",
       "      <th>1</th>\n",
       "      <td>11</td>\n",
       "      <td>4</td>\n",
       "      <td>0.620417</td>\n",
       "      <td>0.321667</td>\n",
       "      <td>0.152987</td>\n",
       "      <td>0</td>\n",
       "      <td>0</td>\n",
       "      <td>0</td>\n",
       "      <td>1</td>\n",
       "      <td>1</td>\n",
       "      <td>0</td>\n",
       "      <td>0</td>\n",
       "      <td>1</td>\n",
       "      <td>0</td>\n",
       "      <td>1</td>\n",
       "      <td>0</td>\n",
       "      <td>0</td>\n",
       "      <td>1</td>\n",
       "    </tr>\n",
       "    <tr>\n",
       "      <th>2</th>\n",
       "      <td>11</td>\n",
       "      <td>5</td>\n",
       "      <td>0.524583</td>\n",
       "      <td>0.345000</td>\n",
       "      <td>0.171025</td>\n",
       "      <td>0</td>\n",
       "      <td>0</td>\n",
       "      <td>0</td>\n",
       "      <td>1</td>\n",
       "      <td>1</td>\n",
       "      <td>0</td>\n",
       "      <td>0</td>\n",
       "      <td>1</td>\n",
       "      <td>1</td>\n",
       "      <td>0</td>\n",
       "      <td>0</td>\n",
       "      <td>0</td>\n",
       "      <td>1</td>\n",
       "    </tr>\n",
       "    <tr>\n",
       "      <th>3</th>\n",
       "      <td>6</td>\n",
       "      <td>1</td>\n",
       "      <td>0.494583</td>\n",
       "      <td>0.635000</td>\n",
       "      <td>0.305350</td>\n",
       "      <td>0</td>\n",
       "      <td>1</td>\n",
       "      <td>0</td>\n",
       "      <td>0</td>\n",
       "      <td>1</td>\n",
       "      <td>0</td>\n",
       "      <td>0</td>\n",
       "      <td>1</td>\n",
       "      <td>1</td>\n",
       "      <td>0</td>\n",
       "      <td>0</td>\n",
       "      <td>1</td>\n",
       "      <td>0</td>\n",
       "    </tr>\n",
       "    <tr>\n",
       "      <th>4</th>\n",
       "      <td>1</td>\n",
       "      <td>1</td>\n",
       "      <td>0.400833</td>\n",
       "      <td>0.269167</td>\n",
       "      <td>0.215792</td>\n",
       "      <td>1</td>\n",
       "      <td>0</td>\n",
       "      <td>0</td>\n",
       "      <td>0</td>\n",
       "      <td>1</td>\n",
       "      <td>0</td>\n",
       "      <td>0</td>\n",
       "      <td>1</td>\n",
       "      <td>1</td>\n",
       "      <td>0</td>\n",
       "      <td>0</td>\n",
       "      <td>0</td>\n",
       "      <td>1</td>\n",
       "    </tr>\n",
       "  </tbody>\n",
       "</table>\n",
       "</div>"
      ],
      "text/plain": [
       "  mnth weekday       hum      temp  windspeed  season_1  season_2  season_3  \\\n",
       "0    8       5  0.415000  0.708333   0.125621         0         0         1   \n",
       "1   11       4  0.620417  0.321667   0.152987         0         0         0   \n",
       "2   11       5  0.524583  0.345000   0.171025         0         0         0   \n",
       "3    6       1  0.494583  0.635000   0.305350         0         1         0   \n",
       "4    1       1  0.400833  0.269167   0.215792         1         0         0   \n",
       "\n",
       "   season_4  holiday_0  holiday_1  workingday_0  workingday_1  weathersit_1  \\\n",
       "0         0          1          0             0             1             1   \n",
       "1         1          1          0             0             1             0   \n",
       "2         1          1          0             0             1             1   \n",
       "3         0          1          0             0             1             1   \n",
       "4         0          1          0             0             1             1   \n",
       "\n",
       "   weathersit_2  weathersit_3  yr_0  yr_1  \n",
       "0             0             0     1     0  \n",
       "1             1             0     0     1  \n",
       "2             0             0     0     1  \n",
       "3             0             0     1     0  \n",
       "4             0             0     0     1  "
      ]
     },
     "execution_count": 170,
     "metadata": {},
     "output_type": "execute_result"
    }
   ],
   "source": [
    "#To get dummy variables to encode the categorical features to numeric\n",
    "train_encoded_attributes=pd.get_dummies(train_attributes,columns=cat_attributes)\n",
    "print('Shape of transfomed dataframe::',train_encoded_attributes.shape)\n",
    "train_encoded_attributes.head(5)"
   ]
  },
  {
   "cell_type": "markdown",
   "id": "35172cbc",
   "metadata": {},
   "source": [
    "# Training dataset"
   ]
  },
  {
   "cell_type": "code",
   "execution_count": 171,
   "id": "c38475ac",
   "metadata": {
    "scrolled": true
   },
   "outputs": [],
   "source": [
    "#Training dataset for modelling\n",
    "X_train=train_encoded_attributes\n",
    "y_train=y_train.cnt.values"
   ]
  },
  {
   "cell_type": "markdown",
   "id": "b6a3ad6e",
   "metadata": {},
   "source": [
    "# Linear Regression Model"
   ]
  },
  {
   "cell_type": "code",
   "execution_count": 172,
   "id": "f85a93b1",
   "metadata": {},
   "outputs": [
    {
     "name": "stdout",
     "output_type": "stream",
     "text": [
      "Accuracy of the model : 0.8165025087335218\n",
      "Model coefficients : [  -25.40093273    69.00041734 -1021.83801516  5265.83269167\n",
      " -2556.15204574  -949.34444399   229.82675107   -79.72789531\n",
      "   799.24558823   228.48467064  -228.48467064   -78.95445063\n",
      "    78.95445063   761.85445399   252.23446226 -1014.08891625\n",
      "  -989.30080604   989.30080604]\n",
      "Model intercept value : 2195.310562348838\n"
     ]
    }
   ],
   "source": [
    "#training model\n",
    "lr_model=linear_model.LinearRegression()\n",
    "lr_model\n",
    "#fit the trained model\n",
    "lr_model.fit(X_train,y_train)\n",
    "#Accuracy of the model\n",
    "lr=lr_model.score(X_train,y_train)\n",
    "print('Accuracy of the model :',lr)\n",
    "print('Model coefficients :',lr_model.coef_)\n",
    "print('Model intercept value :',lr_model.intercept_)"
   ]
  },
  {
   "cell_type": "markdown",
   "id": "0e6f5c90",
   "metadata": {},
   "source": [
    "# Cross validation prediction"
   ]
  },
  {
   "cell_type": "code",
   "execution_count": 173,
   "id": "7affdcd2",
   "metadata": {},
   "outputs": [
    {
     "data": {
      "text/plain": [
       "array([ 5248.7578435 ,  5038.5615668 ,  5806.79339316,  4353.94868702,\n",
       "        3738.02165465,  6781.13199665,  6258.53686563,  3802.32154757,\n",
       "        4679.69060739,  3413.26938345,  5382.26926795,  3103.26413427,\n",
       "        4340.14502978,  5792.02135524,  4357.90482085,  6307.47067538,\n",
       "        4382.53420011,  3356.51602988,   722.55880035,   542.99629923,\n",
       "        7419.07107033,  3747.2639444 ,  5282.38323084,  5494.01243603,\n",
       "        6941.05375802,  7322.95928003,  3629.5886932 ,  3571.12912785,\n",
       "         985.45343201,  4884.05952005,  1644.73801661,  1708.88196943,\n",
       "        1689.90104258,  1295.63879625,  4891.47726849,  5507.81236621,\n",
       "        6015.17425095,  4180.63057735,  5075.38404498,  5941.56769703,\n",
       "        6400.40498745,  4215.81855312,  5962.38814912,  6052.71452714,\n",
       "        3345.73314148,  4096.72004817,  1465.44713372,  3603.17274178,\n",
       "        4587.89942466,  6650.65699064,  1719.93360965,  6128.15135134,\n",
       "        6439.33525805,  3277.84008997,  4592.0786174 ,  3194.61235   ,\n",
       "        1039.88280183,  2100.09613678,   674.30772486,  5224.66730386,\n",
       "        5314.19870803,  4911.06477305,  3739.39082172,  6130.33989227,\n",
       "        5968.45404858,  6295.95877962,  3954.66011045,  3161.72304418,\n",
       "        3512.46233642,  4003.13186901,  2093.3677567 ,  3827.30167223,\n",
       "        6815.93521048,  4135.6591103 ,  4774.56844943,  2452.30835041,\n",
       "        3534.02173852,  4559.07413217,   -80.13110702,  3780.96495495,\n",
       "        4209.2573621 ,  5018.8490244 ,  4014.31054791,  2522.05802453,\n",
       "        6379.32086471,  3758.08076547,  3963.70346595,  6857.23289985,\n",
       "        4468.69327818,  3646.68591468,  1679.07590025,  3349.16374649,\n",
       "        1413.84032115,  6584.71977541,  6228.8522581 ,  4525.24989433,\n",
       "        3621.41590824,  5024.80981436,  3158.99701117,  1894.42556815,\n",
       "        2661.69174676,  3782.07824139,  5688.56741915,  4854.81563596,\n",
       "        3433.99423773,  6034.8877613 ,  6487.83242733,  7001.6389009 ,\n",
       "        4472.20009687,  6364.06616143,  3206.63812555,  3884.45830175,\n",
       "        1964.66801377,  3320.10969996,  4768.11361833,  2609.16521029,\n",
       "        5948.87053442,  4102.45821637,  1609.40133185,  2709.63783098,\n",
       "        4492.38383371,  3433.58537988,  4832.22105954,  5668.91506398,\n",
       "        6696.47683976,  5999.3365819 ,  4876.9804128 ,  3844.07111493,\n",
       "        7119.74773459,  4288.23361221,  6092.17812689,  4495.4422446 ,\n",
       "        3748.14881943,  6235.51941401,  6940.0886107 ,  5138.70260425,\n",
       "        4072.15746453,  5393.17403548,  4055.88151468,  2901.38279759,\n",
       "        7090.36866639,  3530.06748949,  3437.89836177,  5357.35803769,\n",
       "        3737.56116112,  4343.07354639,  4130.62547043,  2784.12775673,\n",
       "        1262.95634462,  4957.2337275 ,  7131.81091712,  4025.9618221 ,\n",
       "        6272.927947  ,  1121.76529347,  3894.19289799,  1412.23346792,\n",
       "       -1080.60059589,  7343.9965627 ,  4420.96119647,  1043.93191501,\n",
       "        7122.93902903,  4693.44706057,  3743.25298687,  5276.11451025,\n",
       "        4774.84841795,  5149.25360319,  4435.40472163,  6435.05522501,\n",
       "        3083.62731793,  4516.24346931,  3545.50138165,  4877.22875094,\n",
       "        4258.66689769,  1153.91971821,  6186.03769679,  1757.69975291,\n",
       "        6101.96704411,  5097.54048061,  4817.16807671,   822.74025349,\n",
       "        5923.54774155,  3669.98628533,  4408.10039681,  3073.61825193,\n",
       "        1373.94740226,  4593.20011568,  5356.3154055 ,  5317.79523838,\n",
       "        4323.42818435,  2818.94372265,  4989.8189471 ,  1134.86886087,\n",
       "        3244.0992691 ,  7547.16258195,  5445.92780291,  6858.42732376,\n",
       "        6533.96802008,  5826.08009284,  1831.46589177,  5376.03129393,\n",
       "        1761.06296062,  6537.26236634,  7571.17110195,  4012.85703479,\n",
       "         303.57125752,  2992.99925533,  5301.66896575,  4940.60509917,\n",
       "        1478.31443559,  6960.30576601,  6759.13861314,  3823.20271816,\n",
       "        5178.09460324,  4289.11838946,  4064.7782468 ,  4410.45636163,\n",
       "        6017.67168343,  3407.21975983,  1559.08667193,  7120.48376218,\n",
       "        3610.84591656,  5006.26782421,  1536.79783396,  1986.74861173,\n",
       "        4680.35788079,  1854.00108678,  5162.39594079,  4898.94493463,\n",
       "        4859.94703625,  3903.15656291,  4326.81673116,  3748.98138642,\n",
       "        4704.73461379,  6390.80692179,  4170.57158517,  6915.73396799,\n",
       "        4722.31478286,  6620.3525888 ,  6102.45541467,  5188.68350633,\n",
       "        6710.28512763,  6146.90528016,  5589.95034317,  7216.57059488,\n",
       "        6176.77411055,  1128.82366247,  5781.50171278,  5116.77826384,\n",
       "        5050.07431718,  5771.4900678 ,  4617.97462346,  3519.72673024,\n",
       "        5041.25087677,  5828.04993986,  3767.67779651,  3511.98966543,\n",
       "        6627.09271149,  6133.01999038,  5364.77282422,  6908.9575722 ,\n",
       "        6505.69868321,  2883.86415736,  4304.92291325,  6900.08826651,\n",
       "        6490.86577409,  4388.43227108,  3566.04040203,  3810.88383415,\n",
       "        6861.54726462,  6666.23365523,  1499.53601346,  4402.24821332,\n",
       "        2324.53110779,  6108.24251268,  3999.79738263,  1927.73284242,\n",
       "        4872.49769432,  3232.20810783,  5251.49535236,  5328.0949106 ,\n",
       "        6587.38701179,  6439.21589299,  6740.2902446 ,  5886.67815986,\n",
       "         517.63955345,  6500.55364893,  5823.71591531,  6782.96748593,\n",
       "        1557.64197371,  6119.18192394,  4531.45591893,  4105.64877904,\n",
       "        3827.04811127,  7739.62283782,  7083.78701349,  5819.70975161,\n",
       "        3333.36739867,  4457.94790494,  2866.21319974,  5642.96505651,\n",
       "        7124.18610817,  6677.39588095,  6056.09585253,  4636.84656389,\n",
       "        5037.66947797,  7085.27128711,  4939.37718174,  7208.65033799,\n",
       "        3545.96391162,  6089.94318947,  2402.51030935,  4790.34938432,\n",
       "        2879.44722109,  6553.5252112 ,  4280.59350481,  4773.33102707,\n",
       "        4292.82800881,  5056.63127051,  4323.33816564,  2794.4456495 ,\n",
       "        3813.7623656 ,  3748.33578471,  5712.11132944,  5477.97134308,\n",
       "        4140.8407895 ,  3240.88641435,  5674.69098961,  4617.66211334,\n",
       "        4340.93753776,  6472.01503942,  4298.30127383,  4942.22929694,\n",
       "        5754.15173531,  6437.91791835,  5054.19085183,  5719.90902567,\n",
       "        2158.20100014,  5286.51702319,  6966.77404895,  4435.42060999,\n",
       "        4341.73662672,  6513.18084875,  3050.70086048,  4062.91529074,\n",
       "        7143.08533508,  3061.66867472,  4478.01843698,  6791.92099791,\n",
       "        4263.43891307,  4371.98107738,  5933.16891231,  1215.80360279,\n",
       "        3265.22580108,  4463.75741442,  3913.79869183,  3395.47829666,\n",
       "        4179.80992118,  5058.24444519,  5633.47619833,  6545.81419463,\n",
       "        3351.7068003 ,  6131.09366253,  5244.74356598,  5285.66363014,\n",
       "        6566.55916089,  6265.49428606,  5655.61729096,  6370.87129097,\n",
       "        6711.08901528,  1888.53835934,  4876.50847676,  5599.14849217,\n",
       "        7214.60503848,  1024.85735516,  6868.92408246,  4085.73054489,\n",
       "        5336.82243818,  5715.50570511,  6121.91638786,  3381.20922084,\n",
       "        7695.80267476,  4398.67120485,  7301.71145973,  5905.85542579,\n",
       "        8037.54886575,  5190.08097121,  5201.23939842,  4230.21592216,\n",
       "        4117.82621548,  5774.07592695,  4281.02306168,  1849.45596244,\n",
       "        6311.73035284,  6471.75727899,  7382.52607618,  2662.4737848 ,\n",
       "        7556.28472177,  1492.28198656,  6603.55072381,  2929.64282586,\n",
       "         938.35715385,  5335.28780321,  3295.93691267,  1212.26415789,\n",
       "        7173.65769081,  4461.21963646,  6841.187504  ,  3609.05873209,\n",
       "        4107.26721991,  5027.91546911,  3860.65055641,  6828.38084877,\n",
       "        6114.31662036,  3832.71329887,  1480.48398073,  5890.41340454,\n",
       "        4103.00499084,  4799.36472638,  6194.90831641,   710.55706204,\n",
       "        1553.90066044,  5067.84681288,  1339.68323094,  5357.90046816,\n",
       "        2817.76591603,  5257.87066479,  5051.69243763,  1282.40828953,\n",
       "        3246.41395539,  3817.33185011,  4075.23249831,  5581.11155374,\n",
       "        4918.0565597 ,  3141.24863065,  4761.23643406,  4942.38270243,\n",
       "        5492.43069947,  6114.74910963,  3774.98929238,  6173.98938952,\n",
       "        1291.46608007,  7350.45442196,  4011.7777884 ,  1247.35782042,\n",
       "        5751.30195648,  6523.10466494,  3535.63378723,  5007.90673022,\n",
       "        1459.45397238,  6281.44892169,  4340.24646704,  5180.19165578,\n",
       "        2859.77044893,  2575.80036862,  2001.41607957,  7497.87693829,\n",
       "        3151.32866481,  4616.32815171,  1714.97100575,  3881.29872571,\n",
       "        7087.98187336,  2752.4329846 ,  3287.13911891,  4253.31442935,\n",
       "        2384.10589072,  4449.12619072,  5543.76992588,  5557.61261189,\n",
       "        7160.2764672 ,  4721.84876308,  5969.9014017 ,  6977.37088843,\n",
       "        5735.38885138,  5209.52933177,  6365.23705948,  5489.7151071 ,\n",
       "        7196.95336735,  1412.40247586,  6441.86936626,  6472.23149688,\n",
       "        4609.89413069,  1081.82181653,  3292.67077901,  6430.56583816,\n",
       "        5835.34066003,  4266.46139125,  4706.40721111,  2572.31636691,\n",
       "        4452.15695958,  5387.17259998,  3374.25699809,  3812.41149405,\n",
       "        6950.25630797,  4460.91130181,  6440.94565676,  2561.14219828,\n",
       "        3928.47441279,  3081.95003821,  6216.91953017,  3744.2975546 ,\n",
       "        4626.98270442,  4981.23665251,  3550.14147561,  6235.16113567,\n",
       "        1250.69667465,  5136.08475533,  1915.62995216,  3183.83829151,\n",
       "        4801.49702745,  3916.94759333,  2676.2931262 ])"
      ]
     },
     "execution_count": 173,
     "metadata": {},
     "output_type": "execute_result"
    }
   ],
   "source": [
    "#Cross validation prediction\n",
    "predict=cross_val_predict(lr_model,X_train,y_train,cv=3)\n",
    "predict"
   ]
  },
  {
   "cell_type": "markdown",
   "id": "638b554e",
   "metadata": {},
   "source": [
    "# Cross validation prediction plot"
   ]
  },
  {
   "cell_type": "code",
   "execution_count": 174,
   "id": "261b3a41",
   "metadata": {
    "scrolled": true
   },
   "outputs": [
    {
     "data": {
      "image/png": "[encoded data removed]",
      "text/plain": [
       "<Figure size 1080x576 with 1 Axes>"
      ]
     },
     "metadata": {},
     "output_type": "display_data"
    }
   ],
   "source": [
    "#Cross validation plot\n",
    "fig,ax=plt.subplots(figsize=(15,8))\n",
    "ax.scatter(y_train,y_train-predict)\n",
    "ax.axhline(lw=2,color='black')\n",
    "ax.set_title('Cross validation prediction plot')\n",
    "ax.set_xlabel('Observed')\n",
    "ax.set_ylabel('Residual')\n",
    "plt.show()"
   ]
  },
  {
   "cell_type": "markdown",
   "id": "ac18fcaf",
   "metadata": {},
   "source": [
    "# R-squared and mean squared error score"
   ]
  },
  {
   "cell_type": "code",
   "execution_count": 175,
   "id": "5e2ed0de",
   "metadata": {},
   "outputs": [
    {
     "name": "stdout",
     "output_type": "stream",
     "text": [
      "R-squared scores : 0.7995611885231044\n"
     ]
    }
   ],
   "source": [
    "#R-squared scores\n",
    "r2_scores = cross_val_score(lr_model, X_train, y_train, cv=3)\n",
    "print('R-squared scores :',np.average(r2_scores))"
   ]
  },
  {
   "cell_type": "markdown",
   "id": "eea0d5c4",
   "metadata": {},
   "source": [
    "# Decoding the test attributes"
   ]
  },
  {
   "cell_type": "code",
   "execution_count": 176,
   "id": "35bc065a",
   "metadata": {},
   "outputs": [
    {
     "name": "stdout",
     "output_type": "stream",
     "text": [
      "Shape of transformed dataframe : (220, 18)\n"
     ]
    },
    {
     "data": {
      "text/html": [
       "<div>\n",
       "<style scoped>\n",
       "    .dataframe tbody tr th:only-of-type {\n",
       "        vertical-align: middle;\n",
       "    }\n",
       "\n",
       "    .dataframe tbody tr th {\n",
       "        vertical-align: top;\n",
       "    }\n",
       "\n",
       "    .dataframe thead th {\n",
       "        text-align: right;\n",
       "    }\n",
       "</style>\n",
       "<table border=\"1\" class=\"dataframe\">\n",
       "  <thead>\n",
       "    <tr style=\"text-align: right;\">\n",
       "      <th></th>\n",
       "      <th>mnth</th>\n",
       "      <th>weekday</th>\n",
       "      <th>hum</th>\n",
       "      <th>temp</th>\n",
       "      <th>windspeed</th>\n",
       "      <th>season_1</th>\n",
       "      <th>season_2</th>\n",
       "      <th>season_3</th>\n",
       "      <th>season_4</th>\n",
       "      <th>holiday_0</th>\n",
       "      <th>holiday_1</th>\n",
       "      <th>workingday_0</th>\n",
       "      <th>workingday_1</th>\n",
       "      <th>weathersit_1</th>\n",
       "      <th>weathersit_2</th>\n",
       "      <th>weathersit_3</th>\n",
       "      <th>yr_0</th>\n",
       "      <th>yr_1</th>\n",
       "    </tr>\n",
       "  </thead>\n",
       "  <tbody>\n",
       "    <tr>\n",
       "      <th>0</th>\n",
       "      <td>12</td>\n",
       "      <td>2</td>\n",
       "      <td>0.733750</td>\n",
       "      <td>0.475833</td>\n",
       "      <td>0.174129</td>\n",
       "      <td>0</td>\n",
       "      <td>0</td>\n",
       "      <td>0</td>\n",
       "      <td>1</td>\n",
       "      <td>1</td>\n",
       "      <td>0</td>\n",
       "      <td>0</td>\n",
       "      <td>1</td>\n",
       "      <td>1</td>\n",
       "      <td>0</td>\n",
       "      <td>0</td>\n",
       "      <td>0</td>\n",
       "      <td>1</td>\n",
       "    </tr>\n",
       "    <tr>\n",
       "      <th>1</th>\n",
       "      <td>2</td>\n",
       "      <td>4</td>\n",
       "      <td>0.437826</td>\n",
       "      <td>0.186957</td>\n",
       "      <td>0.277752</td>\n",
       "      <td>1</td>\n",
       "      <td>0</td>\n",
       "      <td>0</td>\n",
       "      <td>0</td>\n",
       "      <td>1</td>\n",
       "      <td>0</td>\n",
       "      <td>0</td>\n",
       "      <td>1</td>\n",
       "      <td>1</td>\n",
       "      <td>0</td>\n",
       "      <td>0</td>\n",
       "      <td>1</td>\n",
       "      <td>0</td>\n",
       "    </tr>\n",
       "    <tr>\n",
       "      <th>2</th>\n",
       "      <td>10</td>\n",
       "      <td>5</td>\n",
       "      <td>0.585833</td>\n",
       "      <td>0.330833</td>\n",
       "      <td>0.229479</td>\n",
       "      <td>0</td>\n",
       "      <td>0</td>\n",
       "      <td>0</td>\n",
       "      <td>1</td>\n",
       "      <td>1</td>\n",
       "      <td>0</td>\n",
       "      <td>0</td>\n",
       "      <td>1</td>\n",
       "      <td>0</td>\n",
       "      <td>1</td>\n",
       "      <td>0</td>\n",
       "      <td>1</td>\n",
       "      <td>0</td>\n",
       "    </tr>\n",
       "    <tr>\n",
       "      <th>3</th>\n",
       "      <td>4</td>\n",
       "      <td>0</td>\n",
       "      <td>0.676250</td>\n",
       "      <td>0.425833</td>\n",
       "      <td>0.172267</td>\n",
       "      <td>0</td>\n",
       "      <td>1</td>\n",
       "      <td>0</td>\n",
       "      <td>0</td>\n",
       "      <td>1</td>\n",
       "      <td>0</td>\n",
       "      <td>1</td>\n",
       "      <td>0</td>\n",
       "      <td>0</td>\n",
       "      <td>1</td>\n",
       "      <td>0</td>\n",
       "      <td>0</td>\n",
       "      <td>1</td>\n",
       "    </tr>\n",
       "    <tr>\n",
       "      <th>4</th>\n",
       "      <td>9</td>\n",
       "      <td>2</td>\n",
       "      <td>0.570000</td>\n",
       "      <td>0.550000</td>\n",
       "      <td>0.236321</td>\n",
       "      <td>0</td>\n",
       "      <td>0</td>\n",
       "      <td>0</td>\n",
       "      <td>1</td>\n",
       "      <td>1</td>\n",
       "      <td>0</td>\n",
       "      <td>0</td>\n",
       "      <td>1</td>\n",
       "      <td>1</td>\n",
       "      <td>0</td>\n",
       "      <td>0</td>\n",
       "      <td>0</td>\n",
       "      <td>1</td>\n",
       "    </tr>\n",
       "  </tbody>\n",
       "</table>\n",
       "</div>"
      ],
      "text/plain": [
       "  mnth weekday       hum      temp  windspeed  season_1  season_2  season_3  \\\n",
       "0   12       2  0.733750  0.475833   0.174129         0         0         0   \n",
       "1    2       4  0.437826  0.186957   0.277752         1         0         0   \n",
       "2   10       5  0.585833  0.330833   0.229479         0         0         0   \n",
       "3    4       0  0.676250  0.425833   0.172267         0         1         0   \n",
       "4    9       2  0.570000  0.550000   0.236321         0         0         0   \n",
       "\n",
       "   season_4  holiday_0  holiday_1  workingday_0  workingday_1  weathersit_1  \\\n",
       "0         1          1          0             0             1             1   \n",
       "1         0          1          0             0             1             1   \n",
       "2         1          1          0             0             1             0   \n",
       "3         0          1          0             1             0             0   \n",
       "4         1          1          0             0             1             1   \n",
       "\n",
       "   weathersit_2  weathersit_3  yr_0  yr_1  \n",
       "0             0             0     0     1  \n",
       "1             0             0     1     0  \n",
       "2             1             0     1     0  \n",
       "3             1             0     0     1  \n",
       "4             0             0     0     1  "
      ]
     },
     "execution_count": 176,
     "metadata": {},
     "output_type": "execute_result"
    }
   ],
   "source": [
    "#To get dummy variables to encode the categorical features to numeric\n",
    "test_encoded_attributes=pd.get_dummies(test_attributes,columns=cat_attributes)\n",
    "print('Shape of transformed dataframe :',test_encoded_attributes.shape)\n",
    "test_encoded_attributes.head(5)"
   ]
  },
  {
   "cell_type": "markdown",
   "id": "accbc1b6",
   "metadata": {},
   "source": [
    "# Model performance on test dataset"
   ]
  },
  {
   "cell_type": "code",
   "execution_count": 177,
   "id": "9e24c332",
   "metadata": {},
   "outputs": [],
   "source": [
    "#Test dataset for prediction\n",
    "X_test=test_encoded_attributes\n",
    "y_test=y_test.cnt.values"
   ]
  },
  {
   "cell_type": "code",
   "execution_count": 178,
   "id": "c17422bf",
   "metadata": {},
   "outputs": [
    {
     "data": {
      "text/plain": [
       "array([6197.12329782, 1378.27938018, 3212.82326914, 4825.6058012 ,\n",
       "       6672.2308762 , 6942.2039349 ,  693.99373527, 1929.80808599,\n",
       "       6981.48110092, 6844.67173725, 2798.54559266, 2121.8457389 ,\n",
       "       4465.68268321, 5486.74428544, 2189.59008463, 1827.67433934,\n",
       "       2173.48158771, 7469.58027211, 5500.15015098, 2608.49336522,\n",
       "       6933.20124884, 7837.10306473, 5532.48547104, 1261.13929139,\n",
       "       1245.46616862, 4479.83361908, 2496.61989036, 6733.37234742,\n",
       "       3854.86011528, 5802.97615092, 3103.90712661, 4252.34563973,\n",
       "       6358.26561572, 6798.3144729 , 5790.26253638, 5402.54802544,\n",
       "       6692.75313381, 5848.44121572, 3180.98457936,  805.80292438,\n",
       "       4497.72178336, 3746.59014984, 6903.03554988, 4077.94155535,\n",
       "       6907.0442079 , 1687.7942605 , 4801.49297945, 4723.9530173 ,\n",
       "       6369.39948476, 4579.39869385, 3105.76669461, 2833.81705416,\n",
       "       1829.36260472, 5601.65932265, 4625.78263028, 4089.39223053,\n",
       "       4695.03945324, 3038.41700558, 4351.67190815, 6630.97204226,\n",
       "       5007.66555062, 6211.52165985, 2572.61073169, 6727.88758541,\n",
       "       5796.09437315, 7762.90773745, 6848.64696727, 5190.62123588,\n",
       "       1568.96743527, 6028.87281828, 2665.41755406, 2144.02394304,\n",
       "       3356.69145322, 4353.40079713, 4384.19233197, 3220.04666391,\n",
       "       5367.56812181, 4254.58721895,  975.21150647, 5659.73940054,\n",
       "       2542.36328673, 3038.74147307, 5876.48516455, 3594.33351992,\n",
       "       3872.04817926, 4063.25746702, 4705.32613713, 3433.35702376,\n",
       "       3723.75265946, 3202.25007896,  716.74878819, 6822.6772443 ,\n",
       "       5922.1336808 , 4853.60489474, 3168.84865154, 3283.09921476,\n",
       "       4494.43136912, 2646.85988889, 3579.62018078, 5048.13107672,\n",
       "       7167.72890075, 4459.94922665, 6554.79055037, 3146.38282385,\n",
       "       2763.23899264, 5596.58795283, 1100.06582302, 2681.89739079,\n",
       "       7024.44831216,  931.7924249 , 5242.22711677, 6296.07286006,\n",
       "       3412.38654604, 6368.09697036, 5836.4705248 , 3083.61870855,\n",
       "       1415.60188624, 4087.11303535, 4759.40697845, 3218.82983335,\n",
       "       6242.60331962, 2330.86347702, 3311.10655563, 1322.04061013,\n",
       "       4392.81496374, 5950.26843043, 5247.11394751, 2971.91933085,\n",
       "       1974.54234005, 5824.55761634, 3254.47934616, 4154.21343601,\n",
       "       5429.03531681, 5045.72495513, 4664.37722439, 2456.12493284,\n",
       "       5508.53820275, 6242.89615977, 1492.63312718, 5161.38312791,\n",
       "       4222.70597201, 2077.20117062, 2067.28606131, 5254.4625239 ,\n",
       "       4204.22708213, 4948.47344028, 4358.71910619, 4658.33987624,\n",
       "       2352.32871068, 3730.05612973, 3315.06112536, 6839.13109875,\n",
       "       3398.97627374, 4219.50319085, 1229.91618116, 3392.59441851,\n",
       "       4254.28859819, 6577.22705595, 2567.52616578, 5181.47959436,\n",
       "       5838.0593057 , 3570.65586288, 4169.45563323, 5665.67823593,\n",
       "       1820.98838904, 3611.36777664, 5464.69741703, 1992.28047736,\n",
       "       3393.68748484, 5344.44234153, 6652.89864016, 6950.24737149,\n",
       "       1143.52812882, 3717.27949073, 3750.85288536, 5786.96295345,\n",
       "       4155.22788293, 7407.3069429 , 3850.0428338 , 2249.48384716,\n",
       "        411.8468512 , 6634.73634233, 6647.14716246, 5100.71121053,\n",
       "       6428.14183487, 6800.78631545, 7515.09981544, 2821.43860645,\n",
       "       5461.00521722, 1246.05158275, 6988.15644073, 3684.60033916,\n",
       "       3872.6546868 , 5547.97638368, 3069.41059755, 1667.79984417,\n",
       "       5235.21224286, 3484.21070087, 1355.76205855, 4965.45687472,\n",
       "       5227.10750542, 6367.15036549, 5640.6052632 , 5413.3927817 ,\n",
       "       5050.71637614, 1387.07717617, 6621.11312743, 1712.8884983 ,\n",
       "       6345.47467134, 7420.59721026, 6366.99479484, 5777.8219836 ,\n",
       "       5347.08425113, 3646.57515904, 4699.84250695, 3725.68084445,\n",
       "       7210.65078652, 6311.2008993 , 3792.75548891, 3567.67139852])"
      ]
     },
     "execution_count": 178,
     "metadata": {},
     "output_type": "execute_result"
    }
   ],
   "source": [
    "#predict the model\n",
    "lr_pred=lr_model.predict(X_test)\n",
    "lr_pred"
   ]
  },
  {
   "cell_type": "markdown",
   "id": "6715236c",
   "metadata": {},
   "source": [
    "# Model evaluation metrics"
   ]
  },
  {
   "cell_type": "markdown",
   "id": "fa574ec4",
   "metadata": {},
   "source": [
    "# Root mean square error and mean absolute error scores"
   ]
  },
  {
   "cell_type": "code",
   "execution_count": 179,
   "id": "65e03585",
   "metadata": {},
   "outputs": [
    {
     "name": "stdout",
     "output_type": "stream",
     "text": [
      "Root mean square error : 783.0616972625061\n",
      "Mean absolute error : 594.7368430236426\n"
     ]
    }
   ],
   "source": [
    "import math\n",
    "#Root mean square error \n",
    "rmse=math.sqrt(metrics.mean_squared_error(y_test,lr_pred))\n",
    "#Mean absolute error\n",
    "mae=metrics.mean_absolute_error(y_test,lr_pred)\n",
    "print('Root mean square error :',rmse)\n",
    "print('Mean absolute error :',mae)"
   ]
  },
  {
   "cell_type": "code",
   "execution_count": 180,
   "id": "45526d39",
   "metadata": {},
   "outputs": [
    {
     "data": {
      "image/png": "[encoded data removed]",
      "text/plain": [
       "<Figure size 1080x576 with 1 Axes>"
      ]
     },
     "metadata": {},
     "output_type": "display_data"
    }
   ],
   "source": [
    "#Residual plot\n",
    "fig, ax = plt.subplots(figsize=(15,8))\n",
    "ax.scatter(y_test, y_test-lr_pred)\n",
    "ax.axhline(lw=2,color='black')\n",
    "ax.set_xlabel('Observed')\n",
    "ax.set_ylabel('Residuals')\n",
    "ax.title.set_text(\"Residual Plot\")\n",
    "plt.show()"
   ]
  },
  {
   "cell_type": "markdown",
   "id": "ae5899e6",
   "metadata": {},
   "source": [
    "# Decision tree regressor"
   ]
  },
  {
   "cell_type": "code",
   "execution_count": 181,
   "id": "fadc8a7f",
   "metadata": {},
   "outputs": [],
   "source": [
    "#training the model\n",
    "from sklearn.tree import DecisionTreeRegressor\n",
    "dtr=DecisionTreeRegressor(min_samples_split=2,max_leaf_nodes=10)\n"
   ]
  },
  {
   "cell_type": "code",
   "execution_count": 182,
   "id": "98771aec",
   "metadata": {},
   "outputs": [
    {
     "data": {
      "text/plain": [
       "DecisionTreeRegressor(max_leaf_nodes=10)"
      ]
     },
     "execution_count": 182,
     "metadata": {},
     "output_type": "execute_result"
    }
   ],
   "source": [
    "#Fit the trained model\n",
    "dtr.fit(X_train,y_train)"
   ]
  },
  {
   "cell_type": "code",
   "execution_count": 183,
   "id": "c2291878",
   "metadata": {},
   "outputs": [
    {
     "name": "stdout",
     "output_type": "stream",
     "text": [
      "Accuracy of model : 0.8082151777539757\n"
     ]
    }
   ],
   "source": [
    "#Accuracy score of the model\n",
    "dtr_score=dtr.score(X_train,y_train)\n",
    "print('Accuracy of model :',dtr_score)"
   ]
  },
  {
   "cell_type": "code",
   "execution_count": 202,
   "id": "5538a666",
   "metadata": {},
   "outputs": [
    {
     "name": "stdout",
     "output_type": "stream",
     "text": [
      "Requirement already satisfied: graphviz in c:\\users\\bharani\\anaconda3\\lib\\site-packages (0.20)\n"
     ]
    },
    {
     "ename": "ExecutableNotFound",
     "evalue": "failed to execute WindowsPath('dot'), make sure the Graphviz executables are on your systems' PATH",
     "output_type": "error",
     "traceback": [
      "\u001b[1;31m---------------------------------------------------------------------------\u001b[0m",
      "\u001b[1;31mFileNotFoundError\u001b[0m                         Traceback (most recent call last)",
      "File \u001b[1;32m~\\anaconda3\\lib\\site-packages\\graphviz\\backend\\execute.py:79\u001b[0m, in \u001b[0;36mrun_check\u001b[1;34m(cmd, input_lines, encoding, quiet, **kwargs)\u001b[0m\n\u001b[0;32m     78\u001b[0m         kwargs[\u001b[38;5;124m'\u001b[39m\u001b[38;5;124mstdout\u001b[39m\u001b[38;5;124m'\u001b[39m] \u001b[38;5;241m=\u001b[39m kwargs[\u001b[38;5;124m'\u001b[39m\u001b[38;5;124mstderr\u001b[39m\u001b[38;5;124m'\u001b[39m] \u001b[38;5;241m=\u001b[39m subprocess\u001b[38;5;241m.\u001b[39mPIPE\n\u001b[1;32m---> 79\u001b[0m     proc \u001b[38;5;241m=\u001b[39m \u001b[43m_run_input_lines\u001b[49m\u001b[43m(\u001b[49m\u001b[43mcmd\u001b[49m\u001b[43m,\u001b[49m\u001b[43m \u001b[49m\u001b[43minput_lines\u001b[49m\u001b[43m,\u001b[49m\u001b[43m \u001b[49m\u001b[43mkwargs\u001b[49m\u001b[38;5;241;43m=\u001b[39;49m\u001b[43mkwargs\u001b[49m\u001b[43m)\u001b[49m\n\u001b[0;32m     80\u001b[0m \u001b[38;5;28;01melse\u001b[39;00m:\n",
      "File \u001b[1;32m~\\anaconda3\\lib\\site-packages\\graphviz\\backend\\execute.py:99\u001b[0m, in \u001b[0;36m_run_input_lines\u001b[1;34m(cmd, input_lines, kwargs)\u001b[0m\n\u001b[0;32m     98\u001b[0m \u001b[38;5;28;01mdef\u001b[39;00m \u001b[38;5;21m_run_input_lines\u001b[39m(cmd, input_lines, \u001b[38;5;241m*\u001b[39m, kwargs):\n\u001b[1;32m---> 99\u001b[0m     popen \u001b[38;5;241m=\u001b[39m subprocess\u001b[38;5;241m.\u001b[39mPopen(cmd, stdin\u001b[38;5;241m=\u001b[39msubprocess\u001b[38;5;241m.\u001b[39mPIPE, \u001b[38;5;241m*\u001b[39m\u001b[38;5;241m*\u001b[39mkwargs)\n\u001b[0;32m    101\u001b[0m     stdin_write \u001b[38;5;241m=\u001b[39m popen\u001b[38;5;241m.\u001b[39mstdin\u001b[38;5;241m.\u001b[39mwrite\n",
      "File \u001b[1;32m~\\anaconda3\\lib\\subprocess.py:951\u001b[0m, in \u001b[0;36mPopen.__init__\u001b[1;34m(self, args, bufsize, executable, stdin, stdout, stderr, preexec_fn, close_fds, shell, cwd, env, universal_newlines, startupinfo, creationflags, restore_signals, start_new_session, pass_fds, user, group, extra_groups, encoding, errors, text, umask)\u001b[0m\n\u001b[0;32m    948\u001b[0m             \u001b[38;5;28mself\u001b[39m\u001b[38;5;241m.\u001b[39mstderr \u001b[38;5;241m=\u001b[39m io\u001b[38;5;241m.\u001b[39mTextIOWrapper(\u001b[38;5;28mself\u001b[39m\u001b[38;5;241m.\u001b[39mstderr,\n\u001b[0;32m    949\u001b[0m                     encoding\u001b[38;5;241m=\u001b[39mencoding, errors\u001b[38;5;241m=\u001b[39merrors)\n\u001b[1;32m--> 951\u001b[0m     \u001b[38;5;28;43mself\u001b[39;49m\u001b[38;5;241;43m.\u001b[39;49m\u001b[43m_execute_child\u001b[49m\u001b[43m(\u001b[49m\u001b[43margs\u001b[49m\u001b[43m,\u001b[49m\u001b[43m \u001b[49m\u001b[43mexecutable\u001b[49m\u001b[43m,\u001b[49m\u001b[43m \u001b[49m\u001b[43mpreexec_fn\u001b[49m\u001b[43m,\u001b[49m\u001b[43m \u001b[49m\u001b[43mclose_fds\u001b[49m\u001b[43m,\u001b[49m\n\u001b[0;32m    952\u001b[0m \u001b[43m                        \u001b[49m\u001b[43mpass_fds\u001b[49m\u001b[43m,\u001b[49m\u001b[43m \u001b[49m\u001b[43mcwd\u001b[49m\u001b[43m,\u001b[49m\u001b[43m \u001b[49m\u001b[43menv\u001b[49m\u001b[43m,\u001b[49m\n\u001b[0;32m    953\u001b[0m \u001b[43m                        \u001b[49m\u001b[43mstartupinfo\u001b[49m\u001b[43m,\u001b[49m\u001b[43m \u001b[49m\u001b[43mcreationflags\u001b[49m\u001b[43m,\u001b[49m\u001b[43m \u001b[49m\u001b[43mshell\u001b[49m\u001b[43m,\u001b[49m\n\u001b[0;32m    954\u001b[0m \u001b[43m                        \u001b[49m\u001b[43mp2cread\u001b[49m\u001b[43m,\u001b[49m\u001b[43m \u001b[49m\u001b[43mp2cwrite\u001b[49m\u001b[43m,\u001b[49m\n\u001b[0;32m    955\u001b[0m \u001b[43m                        \u001b[49m\u001b[43mc2pread\u001b[49m\u001b[43m,\u001b[49m\u001b[43m \u001b[49m\u001b[43mc2pwrite\u001b[49m\u001b[43m,\u001b[49m\n\u001b[0;32m    956\u001b[0m \u001b[43m                        \u001b[49m\u001b[43merrread\u001b[49m\u001b[43m,\u001b[49m\u001b[43m \u001b[49m\u001b[43merrwrite\u001b[49m\u001b[43m,\u001b[49m\n\u001b[0;32m    957\u001b[0m \u001b[43m                        \u001b[49m\u001b[43mrestore_signals\u001b[49m\u001b[43m,\u001b[49m\n\u001b[0;32m    958\u001b[0m \u001b[43m                        \u001b[49m\u001b[43mgid\u001b[49m\u001b[43m,\u001b[49m\u001b[43m \u001b[49m\u001b[43mgids\u001b[49m\u001b[43m,\u001b[49m\u001b[43m \u001b[49m\u001b[43muid\u001b[49m\u001b[43m,\u001b[49m\u001b[43m \u001b[49m\u001b[43mumask\u001b[49m\u001b[43m,\u001b[49m\n\u001b[0;32m    959\u001b[0m \u001b[43m                        \u001b[49m\u001b[43mstart_new_session\u001b[49m\u001b[43m)\u001b[49m\n\u001b[0;32m    960\u001b[0m \u001b[38;5;28;01mexcept\u001b[39;00m:\n\u001b[0;32m    961\u001b[0m     \u001b[38;5;66;03m# Cleanup if the child failed starting.\u001b[39;00m\n",
      "File \u001b[1;32m~\\anaconda3\\lib\\subprocess.py:1420\u001b[0m, in \u001b[0;36mPopen._execute_child\u001b[1;34m(self, args, executable, preexec_fn, close_fds, pass_fds, cwd, env, startupinfo, creationflags, shell, p2cread, p2cwrite, c2pread, c2pwrite, errread, errwrite, unused_restore_signals, unused_gid, unused_gids, unused_uid, unused_umask, unused_start_new_session)\u001b[0m\n\u001b[0;32m   1419\u001b[0m \u001b[38;5;28;01mtry\u001b[39;00m:\n\u001b[1;32m-> 1420\u001b[0m     hp, ht, pid, tid \u001b[38;5;241m=\u001b[39m \u001b[43m_winapi\u001b[49m\u001b[38;5;241;43m.\u001b[39;49m\u001b[43mCreateProcess\u001b[49m\u001b[43m(\u001b[49m\u001b[43mexecutable\u001b[49m\u001b[43m,\u001b[49m\u001b[43m \u001b[49m\u001b[43margs\u001b[49m\u001b[43m,\u001b[49m\n\u001b[0;32m   1421\u001b[0m \u001b[43m                             \u001b[49m\u001b[38;5;66;43;03m# no special security\u001b[39;49;00m\n\u001b[0;32m   1422\u001b[0m \u001b[43m                             \u001b[49m\u001b[38;5;28;43;01mNone\u001b[39;49;00m\u001b[43m,\u001b[49m\u001b[43m \u001b[49m\u001b[38;5;28;43;01mNone\u001b[39;49;00m\u001b[43m,\u001b[49m\n\u001b[0;32m   1423\u001b[0m \u001b[43m                             \u001b[49m\u001b[38;5;28;43mint\u001b[39;49m\u001b[43m(\u001b[49m\u001b[38;5;129;43;01mnot\u001b[39;49;00m\u001b[43m \u001b[49m\u001b[43mclose_fds\u001b[49m\u001b[43m)\u001b[49m\u001b[43m,\u001b[49m\n\u001b[0;32m   1424\u001b[0m \u001b[43m                             \u001b[49m\u001b[43mcreationflags\u001b[49m\u001b[43m,\u001b[49m\n\u001b[0;32m   1425\u001b[0m \u001b[43m                             \u001b[49m\u001b[43menv\u001b[49m\u001b[43m,\u001b[49m\n\u001b[0;32m   1426\u001b[0m \u001b[43m                             \u001b[49m\u001b[43mcwd\u001b[49m\u001b[43m,\u001b[49m\n\u001b[0;32m   1427\u001b[0m \u001b[43m                             \u001b[49m\u001b[43mstartupinfo\u001b[49m\u001b[43m)\u001b[49m\n\u001b[0;32m   1428\u001b[0m \u001b[38;5;28;01mfinally\u001b[39;00m:\n\u001b[0;32m   1429\u001b[0m     \u001b[38;5;66;03m# Child is launched. Close the parent's copy of those pipe\u001b[39;00m\n\u001b[0;32m   1430\u001b[0m     \u001b[38;5;66;03m# handles that only the child should have open.  You need\u001b[39;00m\n\u001b[1;32m   (...)\u001b[0m\n\u001b[0;32m   1433\u001b[0m     \u001b[38;5;66;03m# pipe will not close when the child process exits and the\u001b[39;00m\n\u001b[0;32m   1434\u001b[0m     \u001b[38;5;66;03m# ReadFile will hang.\u001b[39;00m\n",
      "\u001b[1;31mFileNotFoundError\u001b[0m: [WinError 2] The system cannot find the file specified",
      "\nThe above exception was the direct cause of the following exception:\n",
      "\u001b[1;31mExecutableNotFound\u001b[0m                        Traceback (most recent call last)",
      "File \u001b[1;32m~\\anaconda3\\lib\\site-packages\\IPython\\core\\formatters.py:973\u001b[0m, in \u001b[0;36mMimeBundleFormatter.__call__\u001b[1;34m(self, obj, include, exclude)\u001b[0m\n\u001b[0;32m    970\u001b[0m     method \u001b[38;5;241m=\u001b[39m get_real_method(obj, \u001b[38;5;28mself\u001b[39m\u001b[38;5;241m.\u001b[39mprint_method)\n\u001b[0;32m    972\u001b[0m     \u001b[38;5;28;01mif\u001b[39;00m method \u001b[38;5;129;01mis\u001b[39;00m \u001b[38;5;129;01mnot\u001b[39;00m \u001b[38;5;28;01mNone\u001b[39;00m:\n\u001b[1;32m--> 973\u001b[0m         \u001b[38;5;28;01mreturn\u001b[39;00m \u001b[43mmethod\u001b[49m\u001b[43m(\u001b[49m\u001b[43minclude\u001b[49m\u001b[38;5;241;43m=\u001b[39;49m\u001b[43minclude\u001b[49m\u001b[43m,\u001b[49m\u001b[43m \u001b[49m\u001b[43mexclude\u001b[49m\u001b[38;5;241;43m=\u001b[39;49m\u001b[43mexclude\u001b[49m\u001b[43m)\u001b[49m\n\u001b[0;32m    974\u001b[0m     \u001b[38;5;28;01mreturn\u001b[39;00m \u001b[38;5;28;01mNone\u001b[39;00m\n\u001b[0;32m    975\u001b[0m \u001b[38;5;28;01melse\u001b[39;00m:\n",
      "File \u001b[1;32m~\\anaconda3\\lib\\site-packages\\graphviz\\jupyter_integration.py:98\u001b[0m, in \u001b[0;36mJupyterIntegration._repr_mimebundle_\u001b[1;34m(self, include, exclude, **_)\u001b[0m\n\u001b[0;32m     96\u001b[0m include \u001b[38;5;241m=\u001b[39m \u001b[38;5;28mset\u001b[39m(include) \u001b[38;5;28;01mif\u001b[39;00m include \u001b[38;5;129;01mis\u001b[39;00m \u001b[38;5;129;01mnot\u001b[39;00m \u001b[38;5;28;01mNone\u001b[39;00m \u001b[38;5;28;01melse\u001b[39;00m {\u001b[38;5;28mself\u001b[39m\u001b[38;5;241m.\u001b[39m_jupyter_mimetype}\n\u001b[0;32m     97\u001b[0m include \u001b[38;5;241m-\u001b[39m\u001b[38;5;241m=\u001b[39m \u001b[38;5;28mset\u001b[39m(exclude \u001b[38;5;129;01mor\u001b[39;00m [])\n\u001b[1;32m---> 98\u001b[0m \u001b[38;5;28;01mreturn\u001b[39;00m {mimetype: \u001b[38;5;28mgetattr\u001b[39m(\u001b[38;5;28mself\u001b[39m, method_name)()\n\u001b[0;32m     99\u001b[0m         \u001b[38;5;28;01mfor\u001b[39;00m mimetype, method_name \u001b[38;5;129;01min\u001b[39;00m MIME_TYPES\u001b[38;5;241m.\u001b[39mitems()\n\u001b[0;32m    100\u001b[0m         \u001b[38;5;28;01mif\u001b[39;00m mimetype \u001b[38;5;129;01min\u001b[39;00m include}\n",
      "File \u001b[1;32m~\\anaconda3\\lib\\site-packages\\graphviz\\jupyter_integration.py:98\u001b[0m, in \u001b[0;36m<dictcomp>\u001b[1;34m(.0)\u001b[0m\n\u001b[0;32m     96\u001b[0m include \u001b[38;5;241m=\u001b[39m \u001b[38;5;28mset\u001b[39m(include) \u001b[38;5;28;01mif\u001b[39;00m include \u001b[38;5;129;01mis\u001b[39;00m \u001b[38;5;129;01mnot\u001b[39;00m \u001b[38;5;28;01mNone\u001b[39;00m \u001b[38;5;28;01melse\u001b[39;00m {\u001b[38;5;28mself\u001b[39m\u001b[38;5;241m.\u001b[39m_jupyter_mimetype}\n\u001b[0;32m     97\u001b[0m include \u001b[38;5;241m-\u001b[39m\u001b[38;5;241m=\u001b[39m \u001b[38;5;28mset\u001b[39m(exclude \u001b[38;5;129;01mor\u001b[39;00m [])\n\u001b[1;32m---> 98\u001b[0m \u001b[38;5;28;01mreturn\u001b[39;00m {mimetype: \u001b[38;5;28;43mgetattr\u001b[39;49m\u001b[43m(\u001b[49m\u001b[38;5;28;43mself\u001b[39;49m\u001b[43m,\u001b[49m\u001b[43m \u001b[49m\u001b[43mmethod_name\u001b[49m\u001b[43m)\u001b[49m\u001b[43m(\u001b[49m\u001b[43m)\u001b[49m\n\u001b[0;32m     99\u001b[0m         \u001b[38;5;28;01mfor\u001b[39;00m mimetype, method_name \u001b[38;5;129;01min\u001b[39;00m MIME_TYPES\u001b[38;5;241m.\u001b[39mitems()\n\u001b[0;32m    100\u001b[0m         \u001b[38;5;28;01mif\u001b[39;00m mimetype \u001b[38;5;129;01min\u001b[39;00m include}\n",
      "File \u001b[1;32m~\\anaconda3\\lib\\site-packages\\graphviz\\jupyter_integration.py:112\u001b[0m, in \u001b[0;36mJupyterIntegration._repr_image_svg_xml\u001b[1;34m(self)\u001b[0m\n\u001b[0;32m    110\u001b[0m \u001b[38;5;28;01mdef\u001b[39;00m \u001b[38;5;21m_repr_image_svg_xml\u001b[39m(\u001b[38;5;28mself\u001b[39m) \u001b[38;5;241m-\u001b[39m\u001b[38;5;241m>\u001b[39m \u001b[38;5;28mstr\u001b[39m:\n\u001b[0;32m    111\u001b[0m     \u001b[38;5;124;03m\"\"\"Return the rendered graph as SVG string.\"\"\"\u001b[39;00m\n\u001b[1;32m--> 112\u001b[0m     \u001b[38;5;28;01mreturn\u001b[39;00m \u001b[38;5;28;43mself\u001b[39;49m\u001b[38;5;241;43m.\u001b[39;49m\u001b[43mpipe\u001b[49m\u001b[43m(\u001b[49m\u001b[38;5;28;43mformat\u001b[39;49m\u001b[38;5;241;43m=\u001b[39;49m\u001b[38;5;124;43m'\u001b[39;49m\u001b[38;5;124;43msvg\u001b[39;49m\u001b[38;5;124;43m'\u001b[39;49m\u001b[43m,\u001b[49m\u001b[43m \u001b[49m\u001b[43mencoding\u001b[49m\u001b[38;5;241;43m=\u001b[39;49m\u001b[43mSVG_ENCODING\u001b[49m\u001b[43m)\u001b[49m\n",
      "File \u001b[1;32m~\\anaconda3\\lib\\site-packages\\graphviz\\piping.py:104\u001b[0m, in \u001b[0;36mPipe.pipe\u001b[1;34m(self, format, renderer, formatter, neato_no_op, quiet, engine, encoding)\u001b[0m\n\u001b[0;32m     55\u001b[0m \u001b[38;5;28;01mdef\u001b[39;00m \u001b[38;5;21mpipe\u001b[39m(\u001b[38;5;28mself\u001b[39m,\n\u001b[0;32m     56\u001b[0m          \u001b[38;5;28mformat\u001b[39m: typing\u001b[38;5;241m.\u001b[39mOptional[\u001b[38;5;28mstr\u001b[39m] \u001b[38;5;241m=\u001b[39m \u001b[38;5;28;01mNone\u001b[39;00m,\n\u001b[0;32m     57\u001b[0m          renderer: typing\u001b[38;5;241m.\u001b[39mOptional[\u001b[38;5;28mstr\u001b[39m] \u001b[38;5;241m=\u001b[39m \u001b[38;5;28;01mNone\u001b[39;00m,\n\u001b[1;32m   (...)\u001b[0m\n\u001b[0;32m     61\u001b[0m          engine: typing\u001b[38;5;241m.\u001b[39mOptional[\u001b[38;5;28mstr\u001b[39m] \u001b[38;5;241m=\u001b[39m \u001b[38;5;28;01mNone\u001b[39;00m,\n\u001b[0;32m     62\u001b[0m          encoding: typing\u001b[38;5;241m.\u001b[39mOptional[\u001b[38;5;28mstr\u001b[39m] \u001b[38;5;241m=\u001b[39m \u001b[38;5;28;01mNone\u001b[39;00m) \u001b[38;5;241m-\u001b[39m\u001b[38;5;241m>\u001b[39m typing\u001b[38;5;241m.\u001b[39mUnion[\u001b[38;5;28mbytes\u001b[39m, \u001b[38;5;28mstr\u001b[39m]:\n\u001b[0;32m     63\u001b[0m     \u001b[38;5;124;03m\"\"\"Return the source piped through the Graphviz layout command.\u001b[39;00m\n\u001b[0;32m     64\u001b[0m \n\u001b[0;32m     65\u001b[0m \u001b[38;5;124;03m    Args:\u001b[39;00m\n\u001b[1;32m   (...)\u001b[0m\n\u001b[0;32m    102\u001b[0m \u001b[38;5;124;03m        '<?xml version='\u001b[39;00m\n\u001b[0;32m    103\u001b[0m \u001b[38;5;124;03m    \"\"\"\u001b[39;00m\n\u001b[1;32m--> 104\u001b[0m     \u001b[38;5;28;01mreturn\u001b[39;00m \u001b[38;5;28;43mself\u001b[39;49m\u001b[38;5;241;43m.\u001b[39;49m\u001b[43m_pipe_legacy\u001b[49m\u001b[43m(\u001b[49m\u001b[38;5;28;43mformat\u001b[39;49m\u001b[43m,\u001b[49m\n\u001b[0;32m    105\u001b[0m \u001b[43m                             \u001b[49m\u001b[43mrenderer\u001b[49m\u001b[38;5;241;43m=\u001b[39;49m\u001b[43mrenderer\u001b[49m\u001b[43m,\u001b[49m\n\u001b[0;32m    106\u001b[0m \u001b[43m                             \u001b[49m\u001b[43mformatter\u001b[49m\u001b[38;5;241;43m=\u001b[39;49m\u001b[43mformatter\u001b[49m\u001b[43m,\u001b[49m\n\u001b[0;32m    107\u001b[0m \u001b[43m                             \u001b[49m\u001b[43mneato_no_op\u001b[49m\u001b[38;5;241;43m=\u001b[39;49m\u001b[43mneato_no_op\u001b[49m\u001b[43m,\u001b[49m\n\u001b[0;32m    108\u001b[0m \u001b[43m                             \u001b[49m\u001b[43mquiet\u001b[49m\u001b[38;5;241;43m=\u001b[39;49m\u001b[43mquiet\u001b[49m\u001b[43m,\u001b[49m\n\u001b[0;32m    109\u001b[0m \u001b[43m                             \u001b[49m\u001b[43mengine\u001b[49m\u001b[38;5;241;43m=\u001b[39;49m\u001b[43mengine\u001b[49m\u001b[43m,\u001b[49m\n\u001b[0;32m    110\u001b[0m \u001b[43m                             \u001b[49m\u001b[43mencoding\u001b[49m\u001b[38;5;241;43m=\u001b[39;49m\u001b[43mencoding\u001b[49m\u001b[43m)\u001b[49m\n",
      "File \u001b[1;32m~\\anaconda3\\lib\\site-packages\\graphviz\\_tools.py:171\u001b[0m, in \u001b[0;36mdeprecate_positional_args.<locals>.decorator.<locals>.wrapper\u001b[1;34m(*args, **kwargs)\u001b[0m\n\u001b[0;32m    162\u001b[0m     wanted \u001b[38;5;241m=\u001b[39m \u001b[38;5;124m'\u001b[39m\u001b[38;5;124m, \u001b[39m\u001b[38;5;124m'\u001b[39m\u001b[38;5;241m.\u001b[39mjoin(\u001b[38;5;124mf\u001b[39m\u001b[38;5;124m'\u001b[39m\u001b[38;5;132;01m{\u001b[39;00mname\u001b[38;5;132;01m}\u001b[39;00m\u001b[38;5;124m=\u001b[39m\u001b[38;5;132;01m{\u001b[39;00mvalue\u001b[38;5;132;01m!r}\u001b[39;00m\u001b[38;5;124m'\u001b[39m\n\u001b[0;32m    163\u001b[0m                        \u001b[38;5;28;01mfor\u001b[39;00m name, value \u001b[38;5;129;01min\u001b[39;00m deprecated\u001b[38;5;241m.\u001b[39mitems())\n\u001b[0;32m    164\u001b[0m     warnings\u001b[38;5;241m.\u001b[39mwarn(\u001b[38;5;124mf\u001b[39m\u001b[38;5;124m'\u001b[39m\u001b[38;5;124mThe signature of \u001b[39m\u001b[38;5;132;01m{\u001b[39;00mfunc\u001b[38;5;241m.\u001b[39m\u001b[38;5;18m__name__\u001b[39m\u001b[38;5;132;01m}\u001b[39;00m\u001b[38;5;124m will be reduced\u001b[39m\u001b[38;5;124m'\u001b[39m\n\u001b[0;32m    165\u001b[0m                   \u001b[38;5;124mf\u001b[39m\u001b[38;5;124m'\u001b[39m\u001b[38;5;124m to \u001b[39m\u001b[38;5;132;01m{\u001b[39;00msupported_number\u001b[38;5;132;01m}\u001b[39;00m\u001b[38;5;124m positional args\u001b[39m\u001b[38;5;124m'\u001b[39m\n\u001b[0;32m    166\u001b[0m                   \u001b[38;5;124mf\u001b[39m\u001b[38;5;124m'\u001b[39m\u001b[38;5;124m \u001b[39m\u001b[38;5;132;01m{\u001b[39;00m\u001b[38;5;28mlist\u001b[39m(supported)\u001b[38;5;132;01m}\u001b[39;00m\u001b[38;5;124m: pass \u001b[39m\u001b[38;5;132;01m{\u001b[39;00mwanted\u001b[38;5;132;01m}\u001b[39;00m\u001b[38;5;124m'\u001b[39m\n\u001b[0;32m    167\u001b[0m                   \u001b[38;5;124m'\u001b[39m\u001b[38;5;124m as keyword arg(s)\u001b[39m\u001b[38;5;124m'\u001b[39m,\n\u001b[0;32m    168\u001b[0m                   stacklevel\u001b[38;5;241m=\u001b[39mstacklevel,\n\u001b[0;32m    169\u001b[0m                   category\u001b[38;5;241m=\u001b[39mcategory)\n\u001b[1;32m--> 171\u001b[0m \u001b[38;5;28;01mreturn\u001b[39;00m func(\u001b[38;5;241m*\u001b[39margs, \u001b[38;5;241m*\u001b[39m\u001b[38;5;241m*\u001b[39mkwargs)\n",
      "File \u001b[1;32m~\\anaconda3\\lib\\site-packages\\graphviz\\piping.py:121\u001b[0m, in \u001b[0;36mPipe._pipe_legacy\u001b[1;34m(self, format, renderer, formatter, neato_no_op, quiet, engine, encoding)\u001b[0m\n\u001b[0;32m    112\u001b[0m \u001b[38;5;129m@_tools\u001b[39m\u001b[38;5;241m.\u001b[39mdeprecate_positional_args(supported_number\u001b[38;5;241m=\u001b[39m\u001b[38;5;241m2\u001b[39m)\n\u001b[0;32m    113\u001b[0m \u001b[38;5;28;01mdef\u001b[39;00m \u001b[38;5;21m_pipe_legacy\u001b[39m(\u001b[38;5;28mself\u001b[39m,\n\u001b[0;32m    114\u001b[0m                  \u001b[38;5;28mformat\u001b[39m: typing\u001b[38;5;241m.\u001b[39mOptional[\u001b[38;5;28mstr\u001b[39m] \u001b[38;5;241m=\u001b[39m \u001b[38;5;28;01mNone\u001b[39;00m,\n\u001b[1;32m   (...)\u001b[0m\n\u001b[0;32m    119\u001b[0m                  engine: typing\u001b[38;5;241m.\u001b[39mOptional[\u001b[38;5;28mstr\u001b[39m] \u001b[38;5;241m=\u001b[39m \u001b[38;5;28;01mNone\u001b[39;00m,\n\u001b[0;32m    120\u001b[0m                  encoding: typing\u001b[38;5;241m.\u001b[39mOptional[\u001b[38;5;28mstr\u001b[39m] \u001b[38;5;241m=\u001b[39m \u001b[38;5;28;01mNone\u001b[39;00m) \u001b[38;5;241m-\u001b[39m\u001b[38;5;241m>\u001b[39m typing\u001b[38;5;241m.\u001b[39mUnion[\u001b[38;5;28mbytes\u001b[39m, \u001b[38;5;28mstr\u001b[39m]:\n\u001b[1;32m--> 121\u001b[0m     \u001b[38;5;28;01mreturn\u001b[39;00m \u001b[38;5;28;43mself\u001b[39;49m\u001b[38;5;241;43m.\u001b[39;49m\u001b[43m_pipe_future\u001b[49m\u001b[43m(\u001b[49m\u001b[38;5;28;43mformat\u001b[39;49m\u001b[43m,\u001b[49m\n\u001b[0;32m    122\u001b[0m \u001b[43m                             \u001b[49m\u001b[43mrenderer\u001b[49m\u001b[38;5;241;43m=\u001b[39;49m\u001b[43mrenderer\u001b[49m\u001b[43m,\u001b[49m\n\u001b[0;32m    123\u001b[0m \u001b[43m                             \u001b[49m\u001b[43mformatter\u001b[49m\u001b[38;5;241;43m=\u001b[39;49m\u001b[43mformatter\u001b[49m\u001b[43m,\u001b[49m\n\u001b[0;32m    124\u001b[0m \u001b[43m                             \u001b[49m\u001b[43mneato_no_op\u001b[49m\u001b[38;5;241;43m=\u001b[39;49m\u001b[43mneato_no_op\u001b[49m\u001b[43m,\u001b[49m\n\u001b[0;32m    125\u001b[0m \u001b[43m                             \u001b[49m\u001b[43mquiet\u001b[49m\u001b[38;5;241;43m=\u001b[39;49m\u001b[43mquiet\u001b[49m\u001b[43m,\u001b[49m\n\u001b[0;32m    126\u001b[0m \u001b[43m                             \u001b[49m\u001b[43mengine\u001b[49m\u001b[38;5;241;43m=\u001b[39;49m\u001b[43mengine\u001b[49m\u001b[43m,\u001b[49m\n\u001b[0;32m    127\u001b[0m \u001b[43m                             \u001b[49m\u001b[43mencoding\u001b[49m\u001b[38;5;241;43m=\u001b[39;49m\u001b[43mencoding\u001b[49m\u001b[43m)\u001b[49m\n",
      "File \u001b[1;32m~\\anaconda3\\lib\\site-packages\\graphviz\\piping.py:149\u001b[0m, in \u001b[0;36mPipe._pipe_future\u001b[1;34m(self, format, renderer, formatter, neato_no_op, quiet, engine, encoding)\u001b[0m\n\u001b[0;32m    146\u001b[0m \u001b[38;5;28;01mif\u001b[39;00m encoding \u001b[38;5;129;01mis\u001b[39;00m \u001b[38;5;129;01mnot\u001b[39;00m \u001b[38;5;28;01mNone\u001b[39;00m:\n\u001b[0;32m    147\u001b[0m     \u001b[38;5;28;01mif\u001b[39;00m codecs\u001b[38;5;241m.\u001b[39mlookup(encoding) \u001b[38;5;129;01mis\u001b[39;00m codecs\u001b[38;5;241m.\u001b[39mlookup(\u001b[38;5;28mself\u001b[39m\u001b[38;5;241m.\u001b[39mencoding):\n\u001b[0;32m    148\u001b[0m         \u001b[38;5;66;03m# common case: both stdin and stdout need the same encoding\u001b[39;00m\n\u001b[1;32m--> 149\u001b[0m         \u001b[38;5;28;01mreturn\u001b[39;00m \u001b[38;5;28mself\u001b[39m\u001b[38;5;241m.\u001b[39m_pipe_lines_string(\u001b[38;5;241m*\u001b[39margs, encoding\u001b[38;5;241m=\u001b[39mencoding, \u001b[38;5;241m*\u001b[39m\u001b[38;5;241m*\u001b[39mkwargs)\n\u001b[0;32m    150\u001b[0m     \u001b[38;5;28;01mtry\u001b[39;00m:\n\u001b[0;32m    151\u001b[0m         raw \u001b[38;5;241m=\u001b[39m \u001b[38;5;28mself\u001b[39m\u001b[38;5;241m.\u001b[39m_pipe_lines(\u001b[38;5;241m*\u001b[39margs, input_encoding\u001b[38;5;241m=\u001b[39m\u001b[38;5;28mself\u001b[39m\u001b[38;5;241m.\u001b[39mencoding, \u001b[38;5;241m*\u001b[39m\u001b[38;5;241m*\u001b[39mkwargs)\n",
      "File \u001b[1;32m~\\anaconda3\\lib\\site-packages\\graphviz\\backend\\piping.py:212\u001b[0m, in \u001b[0;36mpipe_lines_string\u001b[1;34m(engine, format, input_lines, encoding, renderer, formatter, neato_no_op, quiet)\u001b[0m\n\u001b[0;32m    206\u001b[0m cmd \u001b[38;5;241m=\u001b[39m dot_command\u001b[38;5;241m.\u001b[39mcommand(engine, \u001b[38;5;28mformat\u001b[39m,\n\u001b[0;32m    207\u001b[0m                           renderer\u001b[38;5;241m=\u001b[39mrenderer,\n\u001b[0;32m    208\u001b[0m                           formatter\u001b[38;5;241m=\u001b[39mformatter,\n\u001b[0;32m    209\u001b[0m                           neato_no_op\u001b[38;5;241m=\u001b[39mneato_no_op)\n\u001b[0;32m    210\u001b[0m kwargs \u001b[38;5;241m=\u001b[39m {\u001b[38;5;124m'\u001b[39m\u001b[38;5;124minput_lines\u001b[39m\u001b[38;5;124m'\u001b[39m: input_lines, \u001b[38;5;124m'\u001b[39m\u001b[38;5;124mencoding\u001b[39m\u001b[38;5;124m'\u001b[39m: encoding}\n\u001b[1;32m--> 212\u001b[0m proc \u001b[38;5;241m=\u001b[39m execute\u001b[38;5;241m.\u001b[39mrun_check(cmd, capture_output\u001b[38;5;241m=\u001b[39m\u001b[38;5;28;01mTrue\u001b[39;00m, quiet\u001b[38;5;241m=\u001b[39mquiet, \u001b[38;5;241m*\u001b[39m\u001b[38;5;241m*\u001b[39mkwargs)\n\u001b[0;32m    213\u001b[0m \u001b[38;5;28;01mreturn\u001b[39;00m proc\u001b[38;5;241m.\u001b[39mstdout\n",
      "File \u001b[1;32m~\\anaconda3\\lib\\site-packages\\graphviz\\backend\\execute.py:84\u001b[0m, in \u001b[0;36mrun_check\u001b[1;34m(cmd, input_lines, encoding, quiet, **kwargs)\u001b[0m\n\u001b[0;32m     82\u001b[0m \u001b[38;5;28;01mexcept\u001b[39;00m \u001b[38;5;167;01mOSError\u001b[39;00m \u001b[38;5;28;01mas\u001b[39;00m e:\n\u001b[0;32m     83\u001b[0m     \u001b[38;5;28;01mif\u001b[39;00m e\u001b[38;5;241m.\u001b[39merrno \u001b[38;5;241m==\u001b[39m errno\u001b[38;5;241m.\u001b[39mENOENT:\n\u001b[1;32m---> 84\u001b[0m         \u001b[38;5;28;01mraise\u001b[39;00m ExecutableNotFound(cmd) \u001b[38;5;28;01mfrom\u001b[39;00m \u001b[38;5;21;01me\u001b[39;00m\n\u001b[0;32m     85\u001b[0m     \u001b[38;5;28;01mraise\u001b[39;00m\n\u001b[0;32m     87\u001b[0m \u001b[38;5;28;01mif\u001b[39;00m \u001b[38;5;129;01mnot\u001b[39;00m quiet \u001b[38;5;129;01mand\u001b[39;00m proc\u001b[38;5;241m.\u001b[39mstderr:\n",
      "\u001b[1;31mExecutableNotFound\u001b[0m: failed to execute WindowsPath('dot'), make sure the Graphviz executables are on your systems' PATH"
     ]
    },
    {
     "data": {
      "text/plain": [
       "<graphviz.sources.Source at 0x203920db610>"
      ]
     },
     "execution_count": 202,
     "metadata": {},
     "output_type": "execute_result"
    }
   ],
   "source": [
    "#Plot the learned model\n",
    "from sklearn import tree\n",
    "import pydot\n",
    "import graphviz\n",
    "\n",
    "# export the learned model to tree\n",
    "dot_data = tree.export_graphviz(dtr, out_file=None) \n",
    "graph = graphviz.Source(dot_data) \n",
    "graph"
   ]
  },
  {
   "cell_type": "markdown",
   "id": "6088d38c",
   "metadata": {},
   "source": [
    "# Cross validation prediction"
   ]
  },
  {
   "cell_type": "code",
   "execution_count": 185,
   "id": "88e19b40",
   "metadata": {},
   "outputs": [
    {
     "data": {
      "text/plain": [
       "array([4513.38554217, 4592.56521739, 4592.56521739, 4513.38554217,\n",
       "       2558.6       , 5388.47058824, 6824.96969697, 4592.56521739,\n",
       "       4592.56521739, 3603.92857143, 6824.96969697, 3194.22222222,\n",
       "       4513.38554217, 6824.96969697, 4513.38554217, 6824.96969697,\n",
       "       3603.92857143, 1636.81818182, 1636.81818182, 1636.81818182,\n",
       "       6824.96969697, 2558.6       , 4592.56521739, 1027.        ,\n",
       "       6824.96969697, 6824.96969697, 2558.6       , 4592.56521739,\n",
       "       1636.81818182, 4513.38554217, 1636.81818182, 1636.81818182,\n",
       "       1636.81818182, 1636.81818182, 4513.38554217, 5388.47058824,\n",
       "       6824.96969697, 4592.56521739, 4513.38554217, 6824.96969697,\n",
       "       6824.96969697, 4513.38554217, 6824.96969697, 6824.96969697,\n",
       "       4513.38554217, 3194.22222222, 1636.81818182, 4592.56521739,\n",
       "       4513.38554217, 6824.96969697, 3194.22222222, 6824.96969697,\n",
       "       6824.96969697, 3603.92857143, 4513.38554217, 1027.        ,\n",
       "       1636.81818182, 4513.38554217, 1636.81818182, 4513.38554217,\n",
       "       4592.56521739, 4592.56521739, 2558.6       , 5388.47058824,\n",
       "       4513.38554217, 6824.96969697, 4513.38554217, 3194.22222222,\n",
       "       1027.        , 4592.56521739, 4513.38554217, 4513.38554217,\n",
       "       6824.96969697, 3603.92857143, 4513.38554217, 1636.81818182,\n",
       "       2558.6       , 4513.38554217, 1636.81818182, 4592.56521739,\n",
       "       4513.38554217, 4513.38554217, 4513.38554217, 1636.81818182,\n",
       "       6824.96969697, 4513.38554217, 4513.38554217, 6824.96969697,\n",
       "       4513.38554217, 4513.38554217, 1636.81818182, 2558.6       ,\n",
       "       1636.81818182, 6824.96969697, 6824.96969697, 4513.38554217,\n",
       "       4513.38554217, 4513.38554217, 3603.92857143, 1636.81818182,\n",
       "       3603.92857143, 4513.38554217, 6824.96969697, 4513.38554217,\n",
       "       2558.6       , 6824.96969697, 6824.96969697, 6824.96969697,\n",
       "       4513.38554217, 6824.96969697, 3603.92857143, 3603.92857143,\n",
       "       1636.81818182, 4513.38554217, 4513.38554217, 2558.6       ,\n",
       "       5388.47058824, 4513.38554217, 1636.81818182, 2558.6       ,\n",
       "       6824.96969697, 4513.38554217, 6824.96969697, 6824.96969697,\n",
       "       6824.96969697, 6824.96969697, 4513.38554217, 3603.92857143,\n",
       "       6824.96969697, 4592.56521739, 6824.96969697, 4513.38554217,\n",
       "       3194.22222222, 6824.96969697, 6824.96969697, 4513.38554217,\n",
       "       4592.56521739, 4592.56521739, 4592.56521739, 1027.        ,\n",
       "       6824.96969697, 3603.92857143, 3603.92857143, 4592.56521739,\n",
       "       4513.38554217, 4513.38554217, 5388.47058824, 3603.92857143,\n",
       "       1636.81818182, 4513.38554217, 6824.96969697, 3603.92857143,\n",
       "       4592.56521739, 1636.81818182, 3603.92857143, 1636.81818182,\n",
       "       1636.81818182, 6824.96969697, 4513.38554217, 1636.81818182,\n",
       "       6824.96969697, 4513.38554217, 4513.38554217, 6824.96969697,\n",
       "       4513.38554217, 4513.38554217, 4513.38554217, 6824.96969697,\n",
       "       3603.92857143, 4513.38554217, 4513.38554217, 5335.42307692,\n",
       "       4508.48192771, 2088.92      , 6943.30434783, 2088.92      ,\n",
       "       6943.30434783, 4508.48192771, 4508.48192771, 1857.87234043,\n",
       "       5335.42307692, 3623.52380952, 4508.48192771, 1857.87234043,\n",
       "       1857.87234043, 4508.48192771, 5335.42307692, 5335.42307692,\n",
       "       3779.14285714, 2088.92      , 4508.48192771, 1857.87234043,\n",
       "       5335.42307692, 5798.66666667, 5335.42307692, 6943.30434783,\n",
       "       6943.30434783, 5335.42307692, 1857.87234043, 5335.42307692,\n",
       "       1857.87234043, 5998.        , 5798.66666667, 4508.48192771,\n",
       "       1857.87234043, 4508.48192771, 5335.42307692, 5335.42307692,\n",
       "       1857.87234043, 6943.30434783, 5998.        , 3623.52380952,\n",
       "       5335.42307692, 4508.48192771, 2088.92      , 3308.08333333,\n",
       "       5335.42307692, 4508.48192771, 1857.87234043, 6943.30434783,\n",
       "       3308.08333333, 6943.30434783, 2088.92      , 2088.92      ,\n",
       "       4508.48192771, 1857.87234043, 4508.48192771, 4508.48192771,\n",
       "       5335.42307692, 3779.14285714, 3779.14285714, 5998.        ,\n",
       "       4508.48192771, 6943.30434783, 4508.48192771, 6943.30434783,\n",
       "       4508.48192771, 6943.30434783, 6943.30434783, 1857.87234043,\n",
       "       6943.30434783, 5998.        , 1857.87234043, 5798.66666667,\n",
       "       6943.30434783, 2088.92      , 6943.30434783, 4508.48192771,\n",
       "       5998.        , 5998.        , 4508.48192771, 3623.52380952,\n",
       "       4508.48192771, 6943.30434783, 3779.14285714, 1857.87234043,\n",
       "       6943.30434783, 5998.        , 4508.48192771, 5798.66666667,\n",
       "       6943.30434783, 2088.92      , 4508.48192771, 6943.30434783,\n",
       "       6943.30434783, 4508.48192771, 1857.87234043, 3779.14285714,\n",
       "       6943.30434783, 6943.30434783, 2088.92      , 4508.48192771,\n",
       "       1857.87234043, 5335.42307692, 4508.48192771, 1857.87234043,\n",
       "       4508.48192771, 1857.87234043, 5335.42307692, 4508.48192771,\n",
       "       6943.30434783, 6943.30434783, 5998.        , 5335.42307692,\n",
       "       1857.87234043, 6943.30434783, 5998.        , 6943.30434783,\n",
       "       2088.92      , 6943.30434783, 4508.48192771, 4508.48192771,\n",
       "       3623.52380952, 5798.66666667, 6943.30434783, 5998.        ,\n",
       "       3308.08333333, 4508.48192771, 1857.87234043, 4508.48192771,\n",
       "       6943.30434783, 6943.30434783, 5998.        , 4508.48192771,\n",
       "       4508.48192771, 6943.30434783, 5335.42307692, 5798.66666667,\n",
       "       3623.52380952, 6943.30434783, 3623.52380952, 4508.48192771,\n",
       "       2088.92      , 6943.30434783, 4508.48192771, 5335.42307692,\n",
       "       4508.48192771, 4508.48192771, 3623.52380952, 1857.87234043,\n",
       "       4508.48192771, 4508.48192771, 4508.48192771, 6943.30434783,\n",
       "       4508.48192771, 1857.87234043, 5335.42307692, 4508.48192771,\n",
       "       3779.14285714, 6943.30434783, 5998.        , 4508.48192771,\n",
       "       5335.42307692, 6943.30434783, 6943.30434783, 5335.42307692,\n",
       "       1857.87234043, 5335.42307692, 6943.30434783, 3308.08333333,\n",
       "       5998.        , 6858.30952381, 2732.25      , 4509.55555556,\n",
       "       6858.30952381, 1434.22222222, 4509.55555556, 6858.30952381,\n",
       "       4509.55555556, 3573.79411765, 6858.30952381, 1960.84      ,\n",
       "       4509.55555556, 4509.55555556, 3573.79411765, 1434.22222222,\n",
       "       4509.55555556, 4721.39130435, 6858.30952381, 6858.30952381,\n",
       "       3520.11111111, 6858.30952381, 4721.39130435, 4721.39130435,\n",
       "       6180.2       , 6858.30952381, 4487.75      , 6858.30952381,\n",
       "       6858.30952381, 1434.22222222, 4509.55555556, 4509.55555556,\n",
       "       6858.30952381, 1434.22222222, 6858.30952381, 4509.55555556,\n",
       "       6858.30952381, 6858.30952381, 4721.39130435, 1960.84      ,\n",
       "       6858.30952381, 4509.55555556, 6858.30952381, 6858.30952381,\n",
       "       6858.30952381, 6180.2       , 4509.55555556, 3573.79411765,\n",
       "       3573.79411765, 6858.30952381, 4509.55555556, 1434.22222222,\n",
       "       4721.39130435, 4487.75      , 6858.30952381, 1960.84      ,\n",
       "       6858.30952381, 1434.22222222, 6858.30952381, 4509.55555556,\n",
       "       1960.84      , 4509.55555556, 2732.25      , 1434.22222222,\n",
       "       6858.30952381, 4509.55555556, 6858.30952381, 1434.22222222,\n",
       "       4509.55555556, 6858.30952381, 6858.30952381, 6858.30952381,\n",
       "       6858.30952381, 4509.55555556, 1960.84      , 6858.30952381,\n",
       "       4509.55555556, 4721.39130435, 6858.30952381, 1960.84      ,\n",
       "       1434.22222222, 4509.55555556, 1434.22222222, 6858.30952381,\n",
       "       1434.22222222, 4509.55555556, 4509.55555556, 1434.22222222,\n",
       "       3520.11111111, 4509.55555556, 2732.25      , 3573.79411765,\n",
       "       6858.30952381, 1434.22222222, 2732.25      , 4509.55555556,\n",
       "       4509.55555556, 6858.30952381, 3573.79411765, 6858.30952381,\n",
       "       2732.25      , 6858.30952381, 3573.79411765, 1960.84      ,\n",
       "       4721.39130435, 6858.30952381, 4509.55555556, 4509.55555556,\n",
       "       1434.22222222, 6180.2       , 3573.79411765, 3573.79411765,\n",
       "       3573.79411765, 1960.84      , 2732.25      , 6858.30952381,\n",
       "       1434.22222222, 4509.55555556, 1434.22222222, 3520.11111111,\n",
       "       6858.30952381, 1434.22222222, 3520.11111111, 4509.55555556,\n",
       "       3573.79411765, 4721.39130435, 6858.30952381, 4721.39130435,\n",
       "       6858.30952381, 4509.55555556, 4487.75      , 6858.30952381,\n",
       "       4721.39130435, 4509.55555556, 6858.30952381, 6858.30952381,\n",
       "       6180.2       , 1960.84      , 6858.30952381, 6858.30952381,\n",
       "       4509.55555556, 1434.22222222, 3520.11111111, 6858.30952381,\n",
       "       4509.55555556, 4509.55555556, 4509.55555556, 1434.22222222,\n",
       "       3573.79411765, 6858.30952381, 3520.11111111, 3520.11111111,\n",
       "       6858.30952381, 4509.55555556, 6180.2       , 2732.25      ,\n",
       "       3573.79411765, 1960.84      , 6858.30952381, 4509.55555556,\n",
       "       4509.55555556, 3573.79411765, 4509.55555556, 6180.2       ,\n",
       "       1434.22222222, 4721.39130435, 1960.84      , 4509.55555556,\n",
       "       4509.55555556, 3573.79411765, 1960.84      ])"
      ]
     },
     "execution_count": 185,
     "metadata": {},
     "output_type": "execute_result"
    }
   ],
   "source": [
    "predict=cross_val_predict(dtr,X_train,y_train,cv=3)\n",
    "predict"
   ]
  },
  {
   "cell_type": "code",
   "execution_count": 186,
   "id": "65d94e28",
   "metadata": {},
   "outputs": [
    {
     "data": {
      "image/png": "[encoded data removed]",
      "text/plain": [
       "<Figure size 1080x576 with 1 Axes>"
      ]
     },
     "metadata": {},
     "output_type": "display_data"
    }
   ],
   "source": [
    "# Cross validation prediction plot\n",
    "fig,ax=plt.subplots(figsize=(15,8))\n",
    "ax.scatter(y_train,y_train-predict)\n",
    "ax.axhline(lw=2,color='black')\n",
    "ax.set_title('Cross validation prediction plot')\n",
    "ax.set_xlabel('Observed')\n",
    "ax.set_ylabel('Residual')\n",
    "plt.show()"
   ]
  },
  {
   "cell_type": "code",
   "execution_count": 187,
   "id": "0389f30b",
   "metadata": {},
   "outputs": [
    {
     "name": "stdout",
     "output_type": "stream",
     "text": [
      "R-squared scores : 0.7294133148789058\n"
     ]
    }
   ],
   "source": [
    "#R-squared scores\n",
    "r2_scores = cross_val_score(dtr, X_train, y_train, cv=3)\n",
    "print('R-squared scores :',np.average(r2_scores))"
   ]
  },
  {
   "cell_type": "markdown",
   "id": "8f3c1d64",
   "metadata": {},
   "source": [
    "# Model performance on test dataset"
   ]
  },
  {
   "cell_type": "code",
   "execution_count": 188,
   "id": "ce2ed0e2",
   "metadata": {},
   "outputs": [
    {
     "data": {
      "text/plain": [
       "array([6777.95      , 1848.95454545, 3612.69230769, 5277.09375   ,\n",
       "       6777.95      , 6777.95      , 1848.95454545, 1992.25      ,\n",
       "       6777.95      , 6777.95      , 1848.95454545, 1992.25      ,\n",
       "       4465.04444444, 5277.09375   , 1992.25      , 1992.25      ,\n",
       "       1992.25      , 6777.95      , 4465.04444444, 1848.95454545,\n",
       "       6777.95      , 6777.95      , 5277.09375   , 1848.95454545,\n",
       "       1992.25      , 4465.04444444, 1992.25      , 6777.95      ,\n",
       "       1848.95454545, 5277.09375   , 1848.95454545, 4465.04444444,\n",
       "       6777.95      , 6777.95      , 6777.95      , 5484.22727273,\n",
       "       6777.95      , 6777.95      , 4465.04444444, 1848.95454545,\n",
       "       4465.04444444, 1848.95454545, 6777.95      , 4465.04444444,\n",
       "       6777.95      , 3612.69230769, 4465.04444444, 6777.95      ,\n",
       "       6777.95      , 5484.22727273, 4465.04444444, 1848.95454545,\n",
       "       1992.25      , 4465.04444444, 4465.04444444, 4465.04444444,\n",
       "       3170.41666667, 4465.04444444, 4465.04444444, 6777.95      ,\n",
       "       6777.95      , 6777.95      , 1992.25      , 6777.95      ,\n",
       "       6777.95      , 6777.95      , 6777.95      , 4465.04444444,\n",
       "       1992.25      , 6777.95      , 4465.04444444, 1992.25      ,\n",
       "       3612.69230769, 4465.04444444, 3701.94444444, 4465.04444444,\n",
       "       5277.09375   , 4465.04444444, 1848.95454545, 4465.04444444,\n",
       "       1848.95454545, 1848.95454545, 5277.09375   , 5484.22727273,\n",
       "       3612.69230769, 3701.94444444, 3170.41666667, 3612.69230769,\n",
       "       3612.69230769, 1848.95454545, 1848.95454545, 6777.95      ,\n",
       "       5277.09375   , 6777.95      , 1848.95454545, 1848.95454545,\n",
       "       4465.04444444, 1848.95454545, 3170.41666667, 4465.04444444,\n",
       "       6777.95      , 4465.04444444, 6777.95      , 1848.95454545,\n",
       "       1992.25      , 5277.09375   , 1992.25      , 1848.95454545,\n",
       "       6777.95      , 1848.95454545, 4465.04444444, 6777.95      ,\n",
       "       3612.69230769, 6777.95      , 5484.22727273, 4465.04444444,\n",
       "       1992.25      , 1848.95454545, 4465.04444444, 1848.95454545,\n",
       "       6777.95      , 3170.41666667, 4465.04444444, 1848.95454545,\n",
       "       4465.04444444, 5277.09375   , 4465.04444444, 3612.69230769,\n",
       "       1992.25      , 6777.95      , 3612.69230769, 3612.69230769,\n",
       "       5277.09375   , 5277.09375   , 4465.04444444, 1992.25      ,\n",
       "       6777.95      , 6777.95      , 1992.25      , 4465.04444444,\n",
       "       4465.04444444, 1992.25      , 1992.25      , 4465.04444444,\n",
       "       3612.69230769, 4465.04444444, 4465.04444444, 5277.09375   ,\n",
       "       3170.41666667, 3612.69230769, 4465.04444444, 6777.95      ,\n",
       "       4465.04444444, 4465.04444444, 1848.95454545, 4465.04444444,\n",
       "       3701.94444444, 6777.95      , 3170.41666667, 4465.04444444,\n",
       "       6777.95      , 3170.41666667, 3612.69230769, 5277.09375   ,\n",
       "       1848.95454545, 4465.04444444, 6777.95      , 1992.25      ,\n",
       "       3612.69230769, 4465.04444444, 6777.95      , 6777.95      ,\n",
       "       1848.95454545, 3701.94444444, 3701.94444444, 6777.95      ,\n",
       "       3701.94444444, 6777.95      , 4465.04444444, 1992.25      ,\n",
       "       1992.25      , 6777.95      , 6777.95      , 5277.09375   ,\n",
       "       6777.95      , 6777.95      , 6777.95      , 1848.95454545,\n",
       "       5277.09375   , 1992.25      , 6777.95      , 3701.94444444,\n",
       "       4465.04444444, 6777.95      , 1848.95454545, 1848.95454545,\n",
       "       4465.04444444, 3701.94444444, 1848.95454545, 4465.04444444,\n",
       "       4465.04444444, 5484.22727273, 5277.09375   , 4465.04444444,\n",
       "       5484.22727273, 3170.41666667, 6777.95      , 1848.95454545,\n",
       "       5484.22727273, 6777.95      , 6777.95      , 4465.04444444,\n",
       "       6777.95      , 1848.95454545, 4465.04444444, 4465.04444444,\n",
       "       6777.95      , 6777.95      , 3170.41666667, 3170.41666667])"
      ]
     },
     "execution_count": 188,
     "metadata": {},
     "output_type": "execute_result"
    }
   ],
   "source": [
    "#predict the model\n",
    "dtr_pred=dtr.predict(X_test)\n",
    "dtr_pred"
   ]
  },
  {
   "cell_type": "code",
   "execution_count": 189,
   "id": "c257df26",
   "metadata": {},
   "outputs": [
    {
     "data": {
      "image/png": "[encoded data removed]",
      "text/plain": [
       "<Figure size 1080x576 with 1 Axes>"
      ]
     },
     "metadata": {},
     "output_type": "display_data"
    }
   ],
   "source": [
    "#Residual scatter plot\n",
    "residuals = y_test-dtr_pred\n",
    "fig, ax = plt.subplots(figsize=(15,8))\n",
    "ax.scatter(y_test, residuals)\n",
    "ax.axhline(lw=2,color='black')\n",
    "ax.set_xlabel('Observed')\n",
    "ax.set_ylabel('Residual')\n",
    "ax.set_title('Residual plot')\n",
    "plt.show()"
   ]
  },
  {
   "cell_type": "markdown",
   "id": "d30e049f",
   "metadata": {},
   "source": [
    "# Random Forest"
   ]
  },
  {
   "cell_type": "code",
   "execution_count": 190,
   "id": "79d45a53",
   "metadata": {},
   "outputs": [
    {
     "name": "stdout",
     "output_type": "stream",
     "text": [
      "Accuracy of the model : 0.9812870025949594\n"
     ]
    }
   ],
   "source": [
    "#Training the model\n",
    "from sklearn.ensemble import RandomForestRegressor\n",
    "X_train=train_encoded_attributes\n",
    "rf=RandomForestRegressor(n_estimators=200)\n",
    "#Fit the trained model\n",
    "rf.fit(X_train,y_train)\n",
    "#accuracy of the model\n",
    "rf_score =rf.score(X_train,y_train)\n",
    "print('Accuracy of the model :',rf_score)"
   ]
  },
  {
   "cell_type": "markdown",
   "id": "2c7b88d7",
   "metadata": {},
   "source": [
    "# Cross validation prediction"
   ]
  },
  {
   "cell_type": "code",
   "execution_count": 191,
   "id": "eae91e58",
   "metadata": {},
   "outputs": [
    {
     "data": {
      "text/plain": [
       "array([4995.715, 4790.275, 5273.72 , 4755.92 , 2997.74 , 5793.08 ,\n",
       "       6669.24 , 3881.35 , 4331.24 , 3663.135, 5971.675, 3409.205,\n",
       "       4259.605, 7032.365, 4924.37 , 6584.905, 4038.14 , 2643.465,\n",
       "       1164.7  , 1319.35 , 6218.19 , 3325.8  , 4841.395, 4352.885,\n",
       "       7115.545, 6264.415, 3231.085, 4172.835, 1446.055, 4972.755,\n",
       "       1109.91 , 1828.29 , 1477.195, 1984.42 , 4742.75 , 4966.93 ,\n",
       "       6893.89 , 3967.365, 4334.44 , 6092.945, 6635.82 , 4331.85 ,\n",
       "       7178.715, 6465.4  , 4446.48 , 3352.985, 1280.605, 3948.405,\n",
       "       4660.01 , 6535.305, 2982.155, 6537.18 , 6268.61 , 3438.51 ,\n",
       "       4969.135, 3203.93 , 1388.39 , 4205.54 , 1049.36 , 4651.27 ,\n",
       "       5491.71 , 4128.39 , 3557.225, 5609.78 , 4401.535, 6974.13 ,\n",
       "       4651.765, 3145.78 , 3856.31 , 4301.06 , 3741.585, 4452.855,\n",
       "       7169.72 , 3751.835, 5015.86 , 2450.395, 2409.545, 4623.51 ,\n",
       "       2053.81 , 4316.845, 4340.705, 4757.085, 4162.06 , 2067.145,\n",
       "       7526.065, 4293.925, 4694.05 , 7174.275, 4641.79 , 4173.19 ,\n",
       "       1586.98 , 2411.15 , 1960.405, 7365.605, 6865.77 , 4846.   ,\n",
       "       4309.575, 4740.01 , 3441.05 , 2070.215, 3096.04 , 4394.68 ,\n",
       "       6272.715, 4454.715, 2949.44 , 6567.345, 6988.515, 7355.   ,\n",
       "       4207.215, 6772.935, 3346.135, 3402.38 , 2001.495, 4444.225,\n",
       "       4906.675, 2587.62 , 5677.905, 4496.795, 1791.255, 1857.785,\n",
       "       5917.115, 4318.095, 5772.625, 6464.395, 6969.87 , 7714.98 ,\n",
       "       4855.87 , 3552.385, 6923.525, 4391.98 , 6149.02 , 4473.26 ,\n",
       "       3605.045, 6906.03 , 7695.1  , 4446.565, 4187.14 , 5011.2  ,\n",
       "       3264.525, 4005.695, 7482.755, 3242.21 , 3547.225, 4660.76 ,\n",
       "       4418.035, 4495.37 , 5047.14 , 3244.55 , 1580.7  , 4473.31 ,\n",
       "       7367.715, 3401.63 , 5453.045, 1452.06 , 3671.08 , 2505.335,\n",
       "        915.81 , 6981.9  , 4361.36 , 1574.85 , 7074.235, 5147.4  ,\n",
       "       4393.42 , 6312.895, 4740.875, 5134.87 , 5034.64 , 6850.235,\n",
       "       3225.575, 5118.79 , 4369.99 , 4895.435, 3917.545, 2582.93 ,\n",
       "       7063.935, 1838.095, 6668.96 , 4862.715, 5225.515, 1183.49 ,\n",
       "       5448.345, 3694.27 , 4652.375, 2344.135, 1803.35 , 4558.93 ,\n",
       "       5924.56 , 6239.21 , 4332.985, 2281.335, 4954.74 , 2440.09 ,\n",
       "       5466.84 , 6190.53 , 5090.92 , 7314.965, 7584.395, 6269.315,\n",
       "       1499.27 , 5684.65 , 1873.085, 6001.94 , 5940.71 , 4077.215,\n",
       "       1144.855, 3606.12 , 4451.34 , 4415.35 , 1365.21 , 7142.785,\n",
       "       6579.18 , 3781.55 , 5285.25 , 4210.435, 3145.185, 3586.565,\n",
       "       6450.87 , 4018.9  , 1232.825, 6899.11 , 3581.735, 5595.42 ,\n",
       "       1879.89 , 2953.77 , 4715.27 , 1577.9  , 4725.715, 4523.42 ,\n",
       "       4057.49 , 3965.17 , 4100.205, 5590.805, 5128.8  , 7585.81 ,\n",
       "       5109.19 , 7263.515, 5013.785, 7502.345, 7467.74 , 3304.195,\n",
       "       7612.35 , 5910.635, 3577.535, 6706.045, 7494.275, 1591.31 ,\n",
       "       6466.56 , 5026.61 , 5433.015, 5474.64 , 4509.3  , 3638.245,\n",
       "       4674.395, 6517.84 , 4077.42 , 2911.095, 7350.81 , 5286.85 ,\n",
       "       4936.24 , 5942.335, 6998.74 , 2473.245, 4316.38 , 6415.005,\n",
       "       6537.72 , 3790.87 , 3064.295, 3981.52 , 6722.88 , 6454.17 ,\n",
       "       1715.845, 3850.465, 2322.41 , 6569.08 , 3974.235, 1636.75 ,\n",
       "       3933.795, 2249.63 , 4911.755, 4716.335, 6502.505, 7435.215,\n",
       "       6621.615, 6352.52 , 1128.595, 7108.105, 5493.87 , 6950.795,\n",
       "       1911.65 , 6493.115, 4701.035, 4734.315, 3626.63 , 5978.735,\n",
       "       6811.675, 5801.155, 3825.695, 4608.045, 2889.03 , 4408.64 ,\n",
       "       6931.66 , 7265.365, 6131.515, 4664.64 , 4772.125, 7019.155,\n",
       "       4740.935, 6571.67 , 3612.34 , 6753.9  , 3137.895, 4464.965,\n",
       "       2363.08 , 7613.27 , 4088.59 , 4268.79 , 4605.71 , 5039.78 ,\n",
       "       3925.185, 2220.25 , 3842.97 , 4100.15 , 3885.23 , 5676.735,\n",
       "       4277.25 , 2631.13 , 6206.62 , 4732.77 , 4083.635, 6572.515,\n",
       "       5423.015, 4424.84 , 4810.865, 6635.345, 6435.8  , 4753.75 ,\n",
       "       1663.05 , 4432.8  , 6354.72 , 4686.23 , 5747.745, 6856.63 ,\n",
       "       2748.835, 4348.97 , 7418.615, 2066.685, 4795.835, 6796.91 ,\n",
       "       4358.   , 4272.175, 6659.07 , 2188.05 , 4423.45 , 5354.215,\n",
       "       3534.235, 2744.72 , 4278.45 , 4371.205, 6836.275, 6599.005,\n",
       "       3371.385, 6584.235, 5162.355, 4574.74 , 6264.78 , 7751.165,\n",
       "       5123.755, 6809.41 , 6888.39 , 1708.52 , 4987.71 , 4134.235,\n",
       "       7528.265, 1048.68 , 7070.035, 4596.715, 6761.98 , 7191.58 ,\n",
       "       5817.855, 2619.085, 5876.835, 4743.09 , 7160.99 , 6077.35 ,\n",
       "       6098.09 , 5914.575, 4378.365, 3259.57 , 3912.34 , 6938.995,\n",
       "       4189.945, 1557.135, 5562.64 , 5524.04 , 7110.345, 1976.12 ,\n",
       "       6670.945, 1841.825, 6983.75 , 3127.585, 1722.145, 4492.945,\n",
       "       3213.64 ,  833.27 , 7296.095, 4510.445, 7126.35 , 2439.295,\n",
       "       4626.13 , 5513.58 , 4368.615, 7304.965, 6790.495, 4222.02 ,\n",
       "       1987.975, 6281.58 , 4664.595, 5056.83 , 6757.06 , 1809.93 ,\n",
       "       1343.06 , 4874.985, 1532.985, 6068.38 , 2213.34 , 4505.01 ,\n",
       "       4878.905, 1453.575, 3389.59 , 4153.085, 2960.27 , 4858.055,\n",
       "       5088.87 , 2235.05 , 3221.19 , 3847.685, 4756.82 , 6747.065,\n",
       "       3473.33 , 6793.15 , 2256.59 , 6946.475, 3636.595, 1883.515,\n",
       "       4108.1  , 6781.745, 3119.905, 4679.475, 1600.29 , 6443.66 ,\n",
       "       4037.77 , 4459.035, 3130.905, 1905.16 , 2647.815, 6358.85 ,\n",
       "       2366.52 , 4801.145, 1377.625, 3424.565, 7385.355, 1654.22 ,\n",
       "       3772.495, 4470.965, 2983.03 , 3879.34 , 6226.78 , 4653.255,\n",
       "       7590.92 , 4854.315, 4697.87 , 6855.22 , 5101.675, 4870.705,\n",
       "       7100.15 , 6512.495, 6769.125, 1939.535, 6878.82 , 6989.59 ,\n",
       "       4698.58 , 1151.415, 3328.3  , 6862.135, 4756.29 , 4458.955,\n",
       "       4409.485, 1714.645, 3895.795, 6190.81 , 3337.615, 3577.88 ,\n",
       "       7344.845, 4812.275, 6485.965, 2742.305, 3374.455, 1892.13 ,\n",
       "       6451.225, 4162.78 , 4462.075, 4670.34 , 4533.615, 6217.88 ,\n",
       "       1337.96 , 3603.555, 2294.375, 3500.59 , 3964.45 , 3609.615,\n",
       "       2176.76 ])"
      ]
     },
     "execution_count": 191,
     "metadata": {},
     "output_type": "execute_result"
    }
   ],
   "source": [
    "#Cross validation prediction\n",
    "predict=cross_val_predict(rf,X_train,y_train,cv=3)\n",
    "predict"
   ]
  },
  {
   "cell_type": "code",
   "execution_count": 192,
   "id": "cedc6dcc",
   "metadata": {},
   "outputs": [
    {
     "data": {
      "image/png": "[encoded data removed]",
      "text/plain": [
       "<Figure size 1080x576 with 1 Axes>"
      ]
     },
     "metadata": {},
     "output_type": "display_data"
    }
   ],
   "source": [
    "#Cross validation prediction plot\n",
    "fig,ax=plt.subplots(figsize=(15,8))\n",
    "ax.scatter(y_train,y_train-predict)\n",
    "ax.axhline(lw=2,color='black')\n",
    "ax.set_title('Cross validation prediction plot')\n",
    "ax.set_xlabel('Observed')\n",
    "ax.set_ylabel('Residual')\n",
    "plt.show()"
   ]
  },
  {
   "cell_type": "code",
   "execution_count": 193,
   "id": "3bbb532c",
   "metadata": {},
   "outputs": [
    {
     "name": "stdout",
     "output_type": "stream",
     "text": [
      "R-squared scores : 0.846789327578669\n"
     ]
    }
   ],
   "source": [
    "#R-squared scores\n",
    "r2_scores = cross_val_score(rf, X_train, y_train, cv=3)\n",
    "print('R-squared scores :',np.average(r2_scores))"
   ]
  },
  {
   "cell_type": "markdown",
   "id": "732de93d",
   "metadata": {},
   "source": [
    "# Model performance on test dataset"
   ]
  },
  {
   "cell_type": "code",
   "execution_count": 194,
   "id": "5ec3fffc",
   "metadata": {},
   "outputs": [
    {
     "data": {
      "text/plain": [
       "array([6570.435, 1553.28 , 3426.56 , 5168.995, 7461.12 , 7232.335,\n",
       "       1473.45 , 2270.605, 7376.385, 6411.745, 2106.205, 2924.965,\n",
       "       4985.105, 5025.92 , 2120.605, 2094.31 , 2234.955, 7854.15 ,\n",
       "       5053.005, 2476.7  , 7448.155, 5948.2  , 5880.29 , 1794.47 ,\n",
       "       1707.21 , 4764.275, 1955.4  , 7216.885, 3191.945, 5659.795,\n",
       "       2969.56 , 4076.425, 6619.35 , 7325.   , 6201.06 , 5382.23 ,\n",
       "       7205.785, 6309.605, 3128.91 ,  942.7  , 3793.825, 3332.945,\n",
       "       7281.215, 4521.725, 6953.9  , 2184.135, 4351.43 , 5687.805,\n",
       "       6662.225, 4079.445, 4180.95 , 2923.38 , 2269.61 , 4211.895,\n",
       "       4716.09 , 4239.98 , 3433.535, 3784.15 , 4306.815, 6573.955,\n",
       "       6231.615, 6838.92 , 1999.3  , 7341.215, 6587.775, 6397.58 ,\n",
       "       5889.295, 4276.76 , 1886.105, 7318.63 , 3616.005, 2129.105,\n",
       "       3133.395, 3904.405, 4231.64 , 3872.825, 4789.565, 4513.015,\n",
       "       1337.62 , 4318.37 , 2265.925, 1992.375, 5047.185, 4103.465,\n",
       "       3626.08 , 3457.545, 4101.74 , 3717.91 , 3460.2  , 3392.62 ,\n",
       "       1369.97 , 7075.06 , 5541.04 , 5853.6  , 2634.06 , 1985.12 ,\n",
       "       4811.84 , 2853.145, 3262.42 , 4859.45 , 7519.89 , 4372.205,\n",
       "       6670.89 , 1871.525, 2451.74 , 5240.3  , 2134.655, 3033.9  ,\n",
       "       6639.205, 1174.06 , 4424.2  , 6868.76 , 3688.835, 7759.04 ,\n",
       "       5931.22 , 4372.65 , 1768.835, 3075.9  , 5055.255, 2315.005,\n",
       "       6632.005, 2633.975, 3304.14 , 1453.24 , 4435.825, 5044.3  ,\n",
       "       4194.835, 3287.235, 2130.645, 6036.25 , 3667.295, 3952.55 ,\n",
       "       4972.32 , 5167.965, 4926.44 , 1940.08 , 6239.07 , 6636.125,\n",
       "       2011.835, 4508.2  , 4617.06 , 2113.245, 2077.26 , 4278.84 ,\n",
       "       3621.695, 4951.495, 4402.405, 4711.95 , 2646.675, 3577.3  ,\n",
       "       4630.99 , 7384.14 , 4144.71 , 4000.52 , 1532.445, 3798.6  ,\n",
       "       3992.555, 6710.225, 2758.3  , 4597.295, 6230.67 , 3972.115,\n",
       "       3942.865, 4932.44 , 1548.13 , 3818.98 , 6401.91 , 1825.685,\n",
       "       3606.745, 4452.18 , 7058.975, 7308.18 , 1528.225, 3388.925,\n",
       "       3899.3  , 5911.65 , 4033.775, 6331.23 , 3550.515, 1708.025,\n",
       "       1618.18 , 7330.795, 7112.6  , 5243.765, 6772.565, 7987.605,\n",
       "       7649.7  , 2617.525, 4452.225, 1381.285, 7344.635, 3619.14 ,\n",
       "       3907.175, 6168.04 , 1959.4  , 1686.215, 3878.72 , 3957.665,\n",
       "       1013.355, 5031.865, 4558.42 , 5736.02 , 5187.63 , 5131.63 ,\n",
       "       5008.575, 2719.39 , 7353.125, 2017.075, 6444.015, 6378.285,\n",
       "       6839.865, 3731.025, 5611.305, 3008.555, 5004.975, 4010.305,\n",
       "       7269.445, 6800.965, 3481.175, 3857.71 ])"
      ]
     },
     "execution_count": 194,
     "metadata": {},
     "output_type": "execute_result"
    }
   ],
   "source": [
    "#predict the model\n",
    "X_test=test_encoded_attributes\n",
    "rf_pred=rf.predict(X_test)\n",
    "rf_pred"
   ]
  },
  {
   "cell_type": "code",
   "execution_count": 195,
   "id": "8e6cb5b5",
   "metadata": {},
   "outputs": [
    {
     "name": "stdout",
     "output_type": "stream",
     "text": [
      "Root mean square error : 632.3433269375901\n",
      "Mean absolute error : 418.8348181818181\n"
     ]
    }
   ],
   "source": [
    "#Root mean square error\n",
    "import math\n",
    "rmse = math.sqrt(metrics.mean_squared_error(y_test,rf_pred))\n",
    "print('Root mean square error :',rmse)\n",
    "#Mean absolute error\n",
    "mae=metrics.mean_absolute_error(y_test,rf_pred)\n",
    "print('Mean absolute error :',mae)"
   ]
  },
  {
   "cell_type": "code",
   "execution_count": 196,
   "id": "e9c95193",
   "metadata": {},
   "outputs": [
    {
     "data": {
      "image/png": "[encoded data removed]",
      "text/plain": [
       "<Figure size 1080x576 with 1 Axes>"
      ]
     },
     "metadata": {},
     "output_type": "display_data"
    }
   ],
   "source": [
    "#Residual scatter plot\n",
    "fig, ax = plt.subplots(figsize=(15,8))\n",
    "residuals=y_test-rf_pred\n",
    "ax.scatter(y_test, residuals)\n",
    "ax.axhline(lw=2,color='black')\n",
    "ax.set_xlabel('Observed')\n",
    "ax.set_ylabel('Residuals')\n",
    "ax.set_title('Residual plot')\n",
    "plt.show()"
   ]
  },
  {
   "cell_type": "markdown",
   "id": "6bd6d519",
   "metadata": {},
   "source": [
    "# Final model for predicting the bike rental count on daily basis"
   ]
  },
  {
   "cell_type": "code",
   "execution_count": 197,
   "id": "c1b29251",
   "metadata": {},
   "outputs": [
    {
     "data": {
      "text/html": [
       "<div>\n",
       "<style scoped>\n",
       "    .dataframe tbody tr th:only-of-type {\n",
       "        vertical-align: middle;\n",
       "    }\n",
       "\n",
       "    .dataframe tbody tr th {\n",
       "        vertical-align: top;\n",
       "    }\n",
       "\n",
       "    .dataframe thead th {\n",
       "        text-align: right;\n",
       "    }\n",
       "</style>\n",
       "<table border=\"1\" class=\"dataframe\">\n",
       "  <thead>\n",
       "    <tr style=\"text-align: right;\">\n",
       "      <th></th>\n",
       "      <th>y_test</th>\n",
       "      <th>rf_pred</th>\n",
       "    </tr>\n",
       "  </thead>\n",
       "  <tbody>\n",
       "    <tr>\n",
       "      <th>0</th>\n",
       "      <td>6606</td>\n",
       "      <td>6570.435</td>\n",
       "    </tr>\n",
       "    <tr>\n",
       "      <th>1</th>\n",
       "      <td>1550</td>\n",
       "      <td>1553.280</td>\n",
       "    </tr>\n",
       "    <tr>\n",
       "      <th>2</th>\n",
       "      <td>3747</td>\n",
       "      <td>3426.560</td>\n",
       "    </tr>\n",
       "    <tr>\n",
       "      <th>3</th>\n",
       "      <td>6041</td>\n",
       "      <td>5168.995</td>\n",
       "    </tr>\n",
       "    <tr>\n",
       "      <th>4</th>\n",
       "      <td>7538</td>\n",
       "      <td>7461.120</td>\n",
       "    </tr>\n",
       "    <tr>\n",
       "      <th>...</th>\n",
       "      <td>...</td>\n",
       "      <td>...</td>\n",
       "    </tr>\n",
       "    <tr>\n",
       "      <th>215</th>\n",
       "      <td>2659</td>\n",
       "      <td>4010.305</td>\n",
       "    </tr>\n",
       "    <tr>\n",
       "      <th>216</th>\n",
       "      <td>7338</td>\n",
       "      <td>7269.445</td>\n",
       "    </tr>\n",
       "    <tr>\n",
       "      <th>217</th>\n",
       "      <td>6978</td>\n",
       "      <td>6800.965</td>\n",
       "    </tr>\n",
       "    <tr>\n",
       "      <th>218</th>\n",
       "      <td>4795</td>\n",
       "      <td>3481.175</td>\n",
       "    </tr>\n",
       "    <tr>\n",
       "      <th>219</th>\n",
       "      <td>3855</td>\n",
       "      <td>3857.710</td>\n",
       "    </tr>\n",
       "  </tbody>\n",
       "</table>\n",
       "<p>220 rows × 2 columns</p>\n",
       "</div>"
      ],
      "text/plain": [
       "     y_test   rf_pred\n",
       "0      6606  6570.435\n",
       "1      1550  1553.280\n",
       "2      3747  3426.560\n",
       "3      6041  5168.995\n",
       "4      7538  7461.120\n",
       "..      ...       ...\n",
       "215    2659  4010.305\n",
       "216    7338  7269.445\n",
       "217    6978  6800.965\n",
       "218    4795  3481.175\n",
       "219    3855  3857.710\n",
       "\n",
       "[220 rows x 2 columns]"
      ]
     },
     "execution_count": 197,
     "metadata": {},
     "output_type": "execute_result"
    }
   ],
   "source": [
    "Bike_df1=pd.DataFrame(y_test,columns=['y_test'])\n",
    "Bike_df2=pd.DataFrame(rf_pred,columns=['rf_pred'])\n",
    "Bike_predictions=pd.merge(Bike_df1,Bike_df2,left_index=True,right_index=True)\n",
    "Bike_predictions.to_csv('Bike_Renting_Python.csv')\n",
    "Bike_predictions"
   ]
  }
 ],
 "metadata": {
  "kernelspec": {
   "display_name": "Python 3 (ipykernel)",
   "language": "python",
   "name": "python3"
  },
  "language_info": {
   "codemirror_mode": {
    "name": "ipython",
    "version": 3
   },
   "file_extension": ".py",
   "mimetype": "text/x-python",
   "name": "python",
   "nbconvert_exporter": "python",
   "pygments_lexer": "ipython3",
   "version": "3.9.12"
  }
 },
 "nbformat": 4,
 "nbformat_minor": 5
}
